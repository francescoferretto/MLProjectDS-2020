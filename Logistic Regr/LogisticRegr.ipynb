{
 "cells": [
  {
   "cell_type": "markdown",
   "metadata": {},
   "source": [
    "# Image Classification Challenge"
   ]
  },
  {
   "cell_type": "code",
   "execution_count": 1,
   "metadata": {
    "_cell_guid": "b1076dfc-b9ad-4769-8c92-a6c4dae69d19",
    "_uuid": "8f2839f25d086af736a60e9eeb907d3b93b6e0e5"
   },
   "outputs": [],
   "source": [
    "##################################################\n",
    "# Imports\n",
    "##################################################\n",
    "\n",
    "import numpy as np\n",
    "import cv2\n",
    "import os\n",
    "import pandas as pd\n",
    "import matplotlib.pyplot as plt\n",
    "import joblib\n",
    "from sklearn import metrics\n",
    "\n",
    "##################################################\n",
    "# Params\n",
    "##################################################\n",
    "\n",
    "#write path to the folder where data are stored\n",
    "os.chdir(r'C:\\Users\\Vittorino\\Google Drive\\Data Science - Unipd\\I Year\\II Semester\\Algorithmic Methods and Machine Learning\\Machine Learning\\Project2\\data')\n",
    "currentDirectory=os.getcwd()#current working directory\n",
    "\n",
    "DATA_BASE_FOLDER = currentDirectory"
   ]
  },
  {
   "cell_type": "markdown",
   "metadata": {},
   "source": [
    "# Dataset\n",
    "\n",
    "The dataset contains 50k train + 10k validation images of 10 different categories ('T-shirt/top', 'Trouser', 'Pullover', 'Dress', 'Coat', 'Sandal', 'Shirt', 'Sneaker', 'Bag', 'Ankle boot').\n",
    "\n",
    "Each image is a 28x28 grayscale, and for simplicity here is flattened into a 784 dimensional vector."
   ]
  },
  {
   "cell_type": "code",
   "execution_count": 2,
   "metadata": {
    "_cell_guid": "79c7e3d0-c299-4dcb-8224-4455121ee9b0",
    "_uuid": "d629ff2d2480ee46fbb7e2d37f6b5fab8052498a"
   },
   "outputs": [
    {
     "data": {
      "image/png": "[encoded data removed]",
      "text/plain": [
       "<Figure size 1800x360 with 20 Axes>"
      ]
     },
     "metadata": {
      "needs_background": "light"
     },
     "output_type": "display_data"
    }
   ],
   "source": [
    "##################################################\n",
    "# Load dataset\n",
    "##################################################\n",
    "\n",
    "x_train = np.load(os.path.join(DATA_BASE_FOLDER, 'train.npy'))\n",
    "x_valid = np.load(os.path.join(DATA_BASE_FOLDER, 'validation.npy'))\n",
    "x_test = np.load(os.path.join(DATA_BASE_FOLDER, 'test.npy'))\n",
    "y_train = pd.read_csv(os.path.join(DATA_BASE_FOLDER, 'train.csv'))['class'].values\n",
    "y_valid = pd.read_csv(os.path.join(DATA_BASE_FOLDER, 'validation.csv'))['class'].values\n",
    "y_labels = ['T-shirt/top', 'Trouser', 'Pullover', 'Dress', 'Coat', 'Sandal', 'Shirt', 'Sneaker', 'Bag', 'Ankle boot']\n",
    "\n",
    "# Plot random images of different classes\n",
    "plt.figure(figsize=(25, 5))\n",
    "for idx in range(20):\n",
    "    plt.subplot(1, 20, idx + 1)\n",
    "    img = x_train[idx].reshape(28, 28)\n",
    "    plt.title(f'{y_labels[y_train[idx]]}')\n",
    "    plt.imshow(img, cmap='gray')\n",
    "    plt.axis('off')\n",
    "plt.show()"
   ]
  },
  {
   "cell_type": "code",
   "execution_count": 3,
   "metadata": {},
   "outputs": [
    {
     "data": {
      "text/plain": [
       "(50000, 784)"
      ]
     },
     "execution_count": 3,
     "metadata": {},
     "output_type": "execute_result"
    }
   ],
   "source": [
    "x_train.shape"
   ]
  },
  {
   "cell_type": "code",
   "execution_count": 4,
   "metadata": {},
   "outputs": [],
   "source": [
    "##################################################\n",
    "# Process the data here, if needed\n",
    "##################################################\n",
    "\n",
    "#since we are going to apply regularization, it's advisible to standardize data\n",
    "from sklearn.preprocessing import StandardScaler\n",
    "scaler = StandardScaler()\n",
    "scaler.fit(x_train)\n",
    "x_train_scaled = scaler.transform(x_train)\n",
    "x_valid_scaled = scaler.transform(x_valid)\n",
    "x_train=x_train_scaled\n",
    "x_valid=x_valid_scaled\n"
   ]
  },
  {
   "cell_type": "code",
   "execution_count": 5,
   "metadata": {},
   "outputs": [],
   "source": [
    "#to fit the data in a reasonable amount of time, we take 20% of train set to train the model\n",
    "x_train_reduced=x_train[0:10000]\n",
    "y_train_reduced=y_train[0:10000]"
   ]
  },
  {
   "cell_type": "markdown",
   "metadata": {},
   "source": [
    "# Model - Logistic Regression\n",
    "\n",
    "Here you have to implement a model (or more models, for finding the most accurate) for classification.\n",
    "\n",
    "You can use the [`sklearn`](https://scikit-learn.org/stable/) (or optionally other more advanced frameworks such as [`pytorch`](https://pytorch.org/) or [`tensorflow`](https://www.tensorflow.org/)) package that contains a pool of models already implemented that perform classification. (SVMs, NNs, LR, kNN, ...)"
   ]
  },
  {
   "cell_type": "code",
   "execution_count": 6,
   "metadata": {},
   "outputs": [],
   "source": [
    "from sklearn.linear_model import LogisticRegression\n",
    "from sklearn.model_selection import GridSearchCV\n",
    "from sklearn.model_selection import StratifiedKFold\n",
    "from sklearn.model_selection import StratifiedKFold"
   ]
  },
  {
   "cell_type": "markdown",
   "metadata": {},
   "source": [
    "## Grid search (cross validated) on a downsampled version of the dataset"
   ]
  },
  {
   "cell_type": "code",
   "execution_count": 7,
   "metadata": {},
   "outputs": [
    {
     "name": "stdout",
     "output_type": "stream",
     "text": [
      "{'penalty': ['l1', 'l2'], 'C': [0.0001, 0.001, 0.01, 0.1, 1, 10, 100, 1000], 'solver': ['liblinear', 'saga']}\n"
     ]
    }
   ],
   "source": [
    "# Define the grid for the grid search\n",
    "penalty = ['l1', 'l2']\n",
    "C = [0.0001, 0.001, 0.01, 0.1, 1, 10, 100, 1000]#inverse of regularization parameter = 1/lambda\n",
    "solver = ['liblinear', 'saga']#the only two solver which support both l1 and l2 regularization\n",
    "param_grid = dict(penalty=penalty,\n",
    "                  C=C,\n",
    "                  solver=solver)\n",
    "# Cross Validation strategy\n",
    "cv=StratifiedKFold(n_splits=5,shuffle=True,random_state=0)\n",
    "print(param_grid)"
   ]
  },
  {
   "cell_type": "code",
   "execution_count": null,
   "metadata": {},
   "outputs": [],
   "source": [
    "##################################################\n",
    "# Implement you model here\n",
    "##################################################\n",
    "\n",
    "logreg = LogisticRegression()\n",
    "# grid search con 5 fold cross validation\n",
    "grid_search = GridSearchCV(estimator=logreg,\n",
    "                            param_grid=param_grid,\n",
    "                            cv=cv,\n",
    "                            n_jobs=-1)\n",
    "grid_search.fit(x_train_reduced, y_train_reduced)\n",
    "\n",
    "print(grid_search.best_params_)\n",
    "print(\"Cross Validation Accuracy: %f\" % grid_search.best_score_)"
   ]
  },
  {
   "cell_type": "code",
   "execution_count": null,
   "metadata": {},
   "outputs": [],
   "source": [
    "# save the model to disk\n",
    "filename = 'grid_search_Logistic.sav'\n",
    "joblib.dump(grid_search, filename)"
   ]
  },
  {
   "cell_type": "code",
   "execution_count": 8,
   "metadata": {},
   "outputs": [],
   "source": [
    "# to load the model from disk\n",
    "filename = 'grid_search_Logistic.sav'\n",
    "grid_search = joblib.load(filename)"
   ]
  },
  {
   "cell_type": "code",
   "execution_count": 9,
   "metadata": {},
   "outputs": [
    {
     "data": {
      "text/plain": [
       "{'C': 1, 'penalty': 'l2', 'solver': 'saga'}"
      ]
     },
     "execution_count": 9,
     "metadata": {},
     "output_type": "execute_result"
    }
   ],
   "source": [
    "# optimal hyperparameters\n",
    "grid_search.best_params_"
   ]
  },
  {
   "cell_type": "code",
   "execution_count": 10,
   "metadata": {},
   "outputs": [
    {
     "data": {
      "text/plain": [
       "0.8411"
      ]
     },
     "execution_count": 10,
     "metadata": {},
     "output_type": "execute_result"
    }
   ],
   "source": [
    "#Performance in validation set of the optimal model \n",
    "grid_search.best_score_"
   ]
  },
  {
   "cell_type": "code",
   "execution_count": 11,
   "metadata": {},
   "outputs": [
    {
     "data": {
      "text/plain": [
       "0.841"
      ]
     },
     "execution_count": 11,
     "metadata": {},
     "output_type": "execute_result"
    }
   ],
   "source": [
    "#performance in the test set of the optimal model trained in a subset of full train set\n",
    "grid_search.score(x_valid, y_valid)"
   ]
  },
  {
   "cell_type": "code",
   "execution_count": 14,
   "metadata": {},
   "outputs": [
    {
     "data": {
      "text/html": [
       "<div>\n",
       "<style scoped>\n",
       "    .dataframe tbody tr th:only-of-type {\n",
       "        vertical-align: middle;\n",
       "    }\n",
       "\n",
       "    .dataframe tbody tr th {\n",
       "        vertical-align: top;\n",
       "    }\n",
       "\n",
       "    .dataframe thead th {\n",
       "        text-align: right;\n",
       "    }\n",
       "</style>\n",
       "<table border=\"1\" class=\"dataframe\">\n",
       "  <thead>\n",
       "    <tr style=\"text-align: right;\">\n",
       "      <th></th>\n",
       "      <th>params</th>\n",
       "      <th>mean_test_score</th>\n",
       "      <th>rank_test_score</th>\n",
       "    </tr>\n",
       "  </thead>\n",
       "  <tbody>\n",
       "    <tr>\n",
       "      <th>0</th>\n",
       "      <td>{'C': 0.0001, 'penalty': 'l1', 'solver': 'libl...</td>\n",
       "      <td>0.0942</td>\n",
       "      <td>32</td>\n",
       "    </tr>\n",
       "    <tr>\n",
       "      <th>1</th>\n",
       "      <td>{'C': 0.0001, 'penalty': 'l1', 'solver': 'saga'}</td>\n",
       "      <td>0.1026</td>\n",
       "      <td>31</td>\n",
       "    </tr>\n",
       "    <tr>\n",
       "      <th>2</th>\n",
       "      <td>{'C': 0.0001, 'penalty': 'l2', 'solver': 'libl...</td>\n",
       "      <td>0.7431</td>\n",
       "      <td>28</td>\n",
       "    </tr>\n",
       "    <tr>\n",
       "      <th>3</th>\n",
       "      <td>{'C': 0.0001, 'penalty': 'l2', 'solver': 'saga'}</td>\n",
       "      <td>0.7692</td>\n",
       "      <td>24</td>\n",
       "    </tr>\n",
       "    <tr>\n",
       "      <th>4</th>\n",
       "      <td>{'C': 0.001, 'penalty': 'l1', 'solver': 'libli...</td>\n",
       "      <td>0.3854</td>\n",
       "      <td>29</td>\n",
       "    </tr>\n",
       "    <tr>\n",
       "      <th>5</th>\n",
       "      <td>{'C': 0.001, 'penalty': 'l1', 'solver': 'saga'}</td>\n",
       "      <td>0.3780</td>\n",
       "      <td>30</td>\n",
       "    </tr>\n",
       "    <tr>\n",
       "      <th>6</th>\n",
       "      <td>{'C': 0.001, 'penalty': 'l2', 'solver': 'libli...</td>\n",
       "      <td>0.7985</td>\n",
       "      <td>18</td>\n",
       "    </tr>\n",
       "    <tr>\n",
       "      <th>7</th>\n",
       "      <td>{'C': 0.001, 'penalty': 'l2', 'solver': 'saga'}</td>\n",
       "      <td>0.8268</td>\n",
       "      <td>13</td>\n",
       "    </tr>\n",
       "    <tr>\n",
       "      <th>8</th>\n",
       "      <td>{'C': 0.01, 'penalty': 'l1', 'solver': 'liblin...</td>\n",
       "      <td>0.7835</td>\n",
       "      <td>22</td>\n",
       "    </tr>\n",
       "    <tr>\n",
       "      <th>9</th>\n",
       "      <td>{'C': 0.01, 'penalty': 'l1', 'solver': 'saga'}</td>\n",
       "      <td>0.7869</td>\n",
       "      <td>20</td>\n",
       "    </tr>\n",
       "    <tr>\n",
       "      <th>10</th>\n",
       "      <td>{'C': 0.01, 'penalty': 'l2', 'solver': 'liblin...</td>\n",
       "      <td>0.8260</td>\n",
       "      <td>15</td>\n",
       "    </tr>\n",
       "    <tr>\n",
       "      <th>11</th>\n",
       "      <td>{'C': 0.01, 'penalty': 'l2', 'solver': 'saga'}</td>\n",
       "      <td>0.8403</td>\n",
       "      <td>10</td>\n",
       "    </tr>\n",
       "    <tr>\n",
       "      <th>12</th>\n",
       "      <td>{'C': 0.1, 'penalty': 'l1', 'solver': 'libline...</td>\n",
       "      <td>0.8352</td>\n",
       "      <td>12</td>\n",
       "    </tr>\n",
       "    <tr>\n",
       "      <th>13</th>\n",
       "      <td>{'C': 0.1, 'penalty': 'l1', 'solver': 'saga'}</td>\n",
       "      <td>0.8361</td>\n",
       "      <td>11</td>\n",
       "    </tr>\n",
       "    <tr>\n",
       "      <th>14</th>\n",
       "      <td>{'C': 0.1, 'penalty': 'l2', 'solver': 'libline...</td>\n",
       "      <td>0.8261</td>\n",
       "      <td>14</td>\n",
       "    </tr>\n",
       "    <tr>\n",
       "      <th>15</th>\n",
       "      <td>{'C': 0.1, 'penalty': 'l2', 'solver': 'saga'}</td>\n",
       "      <td>0.8408</td>\n",
       "      <td>3</td>\n",
       "    </tr>\n",
       "    <tr>\n",
       "      <th>16</th>\n",
       "      <td>{'C': 1, 'penalty': 'l1', 'solver': 'liblinear'}</td>\n",
       "      <td>0.8204</td>\n",
       "      <td>16</td>\n",
       "    </tr>\n",
       "    <tr>\n",
       "      <th>17</th>\n",
       "      <td>{'C': 1, 'penalty': 'l1', 'solver': 'saga'}</td>\n",
       "      <td>0.8407</td>\n",
       "      <td>8</td>\n",
       "    </tr>\n",
       "    <tr>\n",
       "      <th>18</th>\n",
       "      <td>{'C': 1, 'penalty': 'l2', 'solver': 'liblinear'}</td>\n",
       "      <td>0.8071</td>\n",
       "      <td>17</td>\n",
       "    </tr>\n",
       "    <tr>\n",
       "      <th>19</th>\n",
       "      <td>{'C': 1, 'penalty': 'l2', 'solver': 'saga'}</td>\n",
       "      <td>0.8411</td>\n",
       "      <td>1</td>\n",
       "    </tr>\n",
       "    <tr>\n",
       "      <th>20</th>\n",
       "      <td>{'C': 10, 'penalty': 'l1', 'solver': 'liblinear'}</td>\n",
       "      <td>0.7856</td>\n",
       "      <td>21</td>\n",
       "    </tr>\n",
       "    <tr>\n",
       "      <th>21</th>\n",
       "      <td>{'C': 10, 'penalty': 'l1', 'solver': 'saga'}</td>\n",
       "      <td>0.8408</td>\n",
       "      <td>3</td>\n",
       "    </tr>\n",
       "    <tr>\n",
       "      <th>22</th>\n",
       "      <td>{'C': 10, 'penalty': 'l2', 'solver': 'liblinear'}</td>\n",
       "      <td>0.7881</td>\n",
       "      <td>19</td>\n",
       "    </tr>\n",
       "    <tr>\n",
       "      <th>23</th>\n",
       "      <td>{'C': 10, 'penalty': 'l2', 'solver': 'saga'}</td>\n",
       "      <td>0.8408</td>\n",
       "      <td>3</td>\n",
       "    </tr>\n",
       "    <tr>\n",
       "      <th>24</th>\n",
       "      <td>{'C': 100, 'penalty': 'l1', 'solver': 'libline...</td>\n",
       "      <td>0.7630</td>\n",
       "      <td>25</td>\n",
       "    </tr>\n",
       "    <tr>\n",
       "      <th>25</th>\n",
       "      <td>{'C': 100, 'penalty': 'l1', 'solver': 'saga'}</td>\n",
       "      <td>0.8408</td>\n",
       "      <td>7</td>\n",
       "    </tr>\n",
       "    <tr>\n",
       "      <th>26</th>\n",
       "      <td>{'C': 100, 'penalty': 'l2', 'solver': 'libline...</td>\n",
       "      <td>0.7719</td>\n",
       "      <td>23</td>\n",
       "    </tr>\n",
       "    <tr>\n",
       "      <th>27</th>\n",
       "      <td>{'C': 100, 'penalty': 'l2', 'solver': 'saga'}</td>\n",
       "      <td>0.8407</td>\n",
       "      <td>8</td>\n",
       "    </tr>\n",
       "    <tr>\n",
       "      <th>28</th>\n",
       "      <td>{'C': 1000, 'penalty': 'l1', 'solver': 'liblin...</td>\n",
       "      <td>0.7529</td>\n",
       "      <td>27</td>\n",
       "    </tr>\n",
       "    <tr>\n",
       "      <th>29</th>\n",
       "      <td>{'C': 1000, 'penalty': 'l1', 'solver': 'saga'}</td>\n",
       "      <td>0.8410</td>\n",
       "      <td>2</td>\n",
       "    </tr>\n",
       "    <tr>\n",
       "      <th>30</th>\n",
       "      <td>{'C': 1000, 'penalty': 'l2', 'solver': 'liblin...</td>\n",
       "      <td>0.7622</td>\n",
       "      <td>26</td>\n",
       "    </tr>\n",
       "    <tr>\n",
       "      <th>31</th>\n",
       "      <td>{'C': 1000, 'penalty': 'l2', 'solver': 'saga'}</td>\n",
       "      <td>0.8408</td>\n",
       "      <td>3</td>\n",
       "    </tr>\n",
       "  </tbody>\n",
       "</table>\n",
       "</div>"
      ],
      "text/plain": [
       "                                               params  mean_test_score  \\\n",
       "0   {'C': 0.0001, 'penalty': 'l1', 'solver': 'libl...           0.0942   \n",
       "1    {'C': 0.0001, 'penalty': 'l1', 'solver': 'saga'}           0.1026   \n",
       "2   {'C': 0.0001, 'penalty': 'l2', 'solver': 'libl...           0.7431   \n",
       "3    {'C': 0.0001, 'penalty': 'l2', 'solver': 'saga'}           0.7692   \n",
       "4   {'C': 0.001, 'penalty': 'l1', 'solver': 'libli...           0.3854   \n",
       "5     {'C': 0.001, 'penalty': 'l1', 'solver': 'saga'}           0.3780   \n",
       "6   {'C': 0.001, 'penalty': 'l2', 'solver': 'libli...           0.7985   \n",
       "7     {'C': 0.001, 'penalty': 'l2', 'solver': 'saga'}           0.8268   \n",
       "8   {'C': 0.01, 'penalty': 'l1', 'solver': 'liblin...           0.7835   \n",
       "9      {'C': 0.01, 'penalty': 'l1', 'solver': 'saga'}           0.7869   \n",
       "10  {'C': 0.01, 'penalty': 'l2', 'solver': 'liblin...           0.8260   \n",
       "11     {'C': 0.01, 'penalty': 'l2', 'solver': 'saga'}           0.8403   \n",
       "12  {'C': 0.1, 'penalty': 'l1', 'solver': 'libline...           0.8352   \n",
       "13      {'C': 0.1, 'penalty': 'l1', 'solver': 'saga'}           0.8361   \n",
       "14  {'C': 0.1, 'penalty': 'l2', 'solver': 'libline...           0.8261   \n",
       "15      {'C': 0.1, 'penalty': 'l2', 'solver': 'saga'}           0.8408   \n",
       "16   {'C': 1, 'penalty': 'l1', 'solver': 'liblinear'}           0.8204   \n",
       "17        {'C': 1, 'penalty': 'l1', 'solver': 'saga'}           0.8407   \n",
       "18   {'C': 1, 'penalty': 'l2', 'solver': 'liblinear'}           0.8071   \n",
       "19        {'C': 1, 'penalty': 'l2', 'solver': 'saga'}           0.8411   \n",
       "20  {'C': 10, 'penalty': 'l1', 'solver': 'liblinear'}           0.7856   \n",
       "21       {'C': 10, 'penalty': 'l1', 'solver': 'saga'}           0.8408   \n",
       "22  {'C': 10, 'penalty': 'l2', 'solver': 'liblinear'}           0.7881   \n",
       "23       {'C': 10, 'penalty': 'l2', 'solver': 'saga'}           0.8408   \n",
       "24  {'C': 100, 'penalty': 'l1', 'solver': 'libline...           0.7630   \n",
       "25      {'C': 100, 'penalty': 'l1', 'solver': 'saga'}           0.8408   \n",
       "26  {'C': 100, 'penalty': 'l2', 'solver': 'libline...           0.7719   \n",
       "27      {'C': 100, 'penalty': 'l2', 'solver': 'saga'}           0.8407   \n",
       "28  {'C': 1000, 'penalty': 'l1', 'solver': 'liblin...           0.7529   \n",
       "29     {'C': 1000, 'penalty': 'l1', 'solver': 'saga'}           0.8410   \n",
       "30  {'C': 1000, 'penalty': 'l2', 'solver': 'liblin...           0.7622   \n",
       "31     {'C': 1000, 'penalty': 'l2', 'solver': 'saga'}           0.8408   \n",
       "\n",
       "    rank_test_score  \n",
       "0                32  \n",
       "1                31  \n",
       "2                28  \n",
       "3                24  \n",
       "4                29  \n",
       "5                30  \n",
       "6                18  \n",
       "7                13  \n",
       "8                22  \n",
       "9                20  \n",
       "10               15  \n",
       "11               10  \n",
       "12               12  \n",
       "13               11  \n",
       "14               14  \n",
       "15                3  \n",
       "16               16  \n",
       "17                8  \n",
       "18               17  \n",
       "19                1  \n",
       "20               21  \n",
       "21                3  \n",
       "22               19  \n",
       "23                3  \n",
       "24               25  \n",
       "25                7  \n",
       "26               23  \n",
       "27                8  \n",
       "28               27  \n",
       "29                2  \n",
       "30               26  \n",
       "31                3  "
      ]
     },
     "execution_count": 14,
     "metadata": {},
     "output_type": "execute_result"
    }
   ],
   "source": [
    "results_grid_search_logistic = pd.DataFrame(grid_search.cv_results_)\n",
    "results_grid_search_logistic=results_grid_search_logistic[['params','mean_test_score','rank_test_score']]\n",
    "results_grid_search_logistic"
   ]
  },
  {
   "cell_type": "markdown",
   "metadata": {},
   "source": [
    "## Train a single model with the best params with all the TS\n",
    "Train the model with optimal hyperparameters found in the reduced training set, on the full train set."
   ]
  },
  {
   "cell_type": "code",
   "execution_count": 42,
   "metadata": {},
   "outputs": [],
   "source": [
    "#load already trained model if available"
   ]
  },
  {
   "cell_type": "code",
   "execution_count": 15,
   "metadata": {},
   "outputs": [
    {
     "name": "stderr",
     "output_type": "stream",
     "text": [
      "C:\\Users\\Vittorino\\Anaconda3\\lib\\site-packages\\sklearn\\linear_model\\_sag.py:330: ConvergenceWarning: The max_iter was reached which means the coef_ did not converge\n",
      "  \"the coef_ did not converge\", ConvergenceWarning)\n"
     ]
    },
    {
     "data": {
      "text/plain": [
       "LogisticRegression(C=1, class_weight=None, dual=False, fit_intercept=True,\n",
       "                   intercept_scaling=1, l1_ratio=None, max_iter=100,\n",
       "                   multi_class='auto', n_jobs=None, penalty='l2',\n",
       "                   random_state=None, solver='saga', tol=0.0001, verbose=0,\n",
       "                   warm_start=False)"
      ]
     },
     "execution_count": 15,
     "metadata": {},
     "output_type": "execute_result"
    }
   ],
   "source": [
    "logreg = LogisticRegression(penalty='l2',#ridge regularization\n",
    "                            C=1,\n",
    "                            solver='saga',\n",
    "                            max_iter=1000)\n",
    "logreg.fit(x_train,y_train)"
   ]
  },
  {
   "cell_type": "code",
   "execution_count": 16,
   "metadata": {},
   "outputs": [],
   "source": [
    "## Model evaluation"
   ]
  },
  {
   "cell_type": "code",
   "execution_count": 17,
   "metadata": {},
   "outputs": [
    {
     "data": {
      "text/plain": [
       "0.8554"
      ]
     },
     "execution_count": 17,
     "metadata": {},
     "output_type": "execute_result"
    }
   ],
   "source": [
    "logreg.score(x_valid, y_valid)"
   ]
  },
  {
   "cell_type": "code",
   "execution_count": 19,
   "metadata": {},
   "outputs": [
    {
     "data": {
      "text/plain": [
       "['LogisticRegr.sav']"
      ]
     },
     "execution_count": 19,
     "metadata": {},
     "output_type": "execute_result"
    }
   ],
   "source": [
    "# save the model to disk\n",
    "filename = 'LogisticRegr.sav'\n",
    "joblib.dump(logreg, filename)"
   ]
  },
  {
   "cell_type": "code",
   "execution_count": 30,
   "metadata": {},
   "outputs": [
    {
     "data": {
      "image/png": "[encoded data removed]",
      "text/plain": [
       "<Figure size 1440x1440 with 2 Axes>"
      ]
     },
     "metadata": {
      "needs_background": "light"
     },
     "output_type": "display_data"
    }
   ],
   "source": [
    "# confusion matrix\n",
    "fig, ax = plt.subplots(figsize=(20, 20))\n",
    "disp = metrics.plot_confusion_matrix(logreg, x_valid, y_valid,\n",
    "                                     normalize='all', \n",
    "                                     include_values=True,\n",
    "                                    ax=ax)"
   ]
  }
 ],
 "metadata": {
  "kernelspec": {
   "display_name": "Python 3",
   "language": "python",
   "name": "python3"
  },
  "language_info": {
   "codemirror_mode": {
    "name": "ipython",
    "version": 3
   },
   "file_extension": ".py",
   "mimetype": "text/x-python",
   "name": "python",
   "nbconvert_exporter": "python",
   "pygments_lexer": "ipython3",
   "version": "3.7.3"
  }
 },
 "nbformat": 4,
 "nbformat_minor": 4
}
