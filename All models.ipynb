{
 "cells": [
  {
   "cell_type": "markdown",
   "metadata": {},
   "source": [
    "# Image Classification Challenge"
   ]
  },
  {
   "cell_type": "code",
   "execution_count": 7,
   "metadata": {
    "_cell_guid": "b1076dfc-b9ad-4769-8c92-a6c4dae69d19",
    "_uuid": "8f2839f25d086af736a60e9eeb907d3b93b6e0e5"
   },
   "outputs": [],
   "source": [
    "##################################################\n",
    "# Imports\n",
    "##################################################\n",
    "\n",
    "import numpy as np\n",
    "import cv2\n",
    "import os\n",
    "import pandas as pd\n",
    "import matplotlib.pyplot as plt\n",
    "import joblib\n",
    "from sklearn import metrics\n",
    "from sklearn.model_selection import GridSearchCV\n",
    "from sklearn.model_selection import StratifiedKFold\n",
    "\n",
    "\n",
    "import tensorflow as tf\n",
    "from tensorflow.keras import layers\n",
    "from tensorflow.keras.layers import Input, Dense, Activation, ZeroPadding2D, BatchNormalization, Flatten, Conv2D\n",
    "from tensorflow.keras.layers import AveragePooling2D, MaxPooling2D, Dropout, GlobalMaxPooling2D, GlobalAveragePooling2D\n",
    "from tensorflow.keras.models import Model\n",
    "\n",
    "##################################################\n",
    "# Params\n",
    "##################################################\n",
    "\n",
    "#write path to your local folder where data are stored\n",
    "#os.chdir(r'C:\\Users\\Vittorino\\Google Drive\\Data Science - Unipd\\I Year\\II Semester\\Algorithmic Methods and Machine Learning\\Machine Learning\\Project2\\data')\n",
    "currentDirectory=os.getcwd()#current working directory\n",
    "\n",
    "DATA_BASE_FOLDER = 'data'"
   ]
  },
  {
   "cell_type": "markdown",
   "metadata": {},
   "source": [
    "# Dataset\n",
    "\n",
    "The dataset contains 50k train + 10k validation images of 10 different categories ('T-shirt/top', 'Trouser', 'Pullover', 'Dress', 'Coat', 'Sandal', 'Shirt', 'Sneaker', 'Bag', 'Ankle boot').\n",
    "\n",
    "Each image is a 28x28 grayscale, and for simplicity here is flattened into a 784 dimensional vector."
   ]
  },
  {
   "cell_type": "code",
   "execution_count": 8,
   "metadata": {
    "_cell_guid": "79c7e3d0-c299-4dcb-8224-4455121ee9b0",
    "_uuid": "d629ff2d2480ee46fbb7e2d37f6b5fab8052498a"
   },
   "outputs": [
    {
     "data": {
      "image/png": "[encoded data removed]",
      "text/plain": [
       "<Figure size 1800x360 with 20 Axes>"
      ]
     },
     "metadata": {
      "needs_background": "light"
     },
     "output_type": "display_data"
    }
   ],
   "source": [
    "##################################################\n",
    "# Load dataset\n",
    "##################################################\n",
    "\n",
    "x_train = np.load(os.path.join(DATA_BASE_FOLDER, 'train.npy'))\n",
    "x_valid = np.load(os.path.join(DATA_BASE_FOLDER, 'validation.npy'))\n",
    "x_test = np.load(os.path.join(DATA_BASE_FOLDER, 'test.npy'))\n",
    "y_train = pd.read_csv(os.path.join(DATA_BASE_FOLDER, 'train.csv'))['class'].values\n",
    "y_valid = pd.read_csv(os.path.join(DATA_BASE_FOLDER, 'validation.csv'))['class'].values\n",
    "y_labels = ['T-shirt/top', 'Trouser', 'Pullover', 'Dress', 'Coat', 'Sandal', 'Shirt', 'Sneaker', 'Bag', 'Ankle boot']\n",
    "\n",
    "# Plot random images of different classes\n",
    "plt.figure(figsize=(25, 5))\n",
    "for idx in range(20):\n",
    "    plt.subplot(1, 20, idx + 1)\n",
    "    img = x_train[idx].reshape(28, 28)\n",
    "    plt.title(f'{y_labels[y_train[idx]]}')\n",
    "    plt.imshow(img, cmap='gray')\n",
    "    plt.axis('off')\n",
    "plt.show()"
   ]
  },
  {
   "cell_type": "code",
   "execution_count": 9,
   "metadata": {},
   "outputs": [
    {
     "data": {
      "text/plain": [
       "(50000, 784)"
      ]
     },
     "execution_count": 9,
     "metadata": {},
     "output_type": "execute_result"
    }
   ],
   "source": [
    "x_train.shape"
   ]
  },
  {
   "cell_type": "markdown",
   "metadata": {},
   "source": [
    "# Overview\n",
    "\n",
    "We are going to apply four different models:\n",
    "- Logistic Regression\n",
    "- KNN\n",
    "- Random Forest\n",
    "- Support Vector Machines\n",
    "- Convolutional Neural Networks\n",
    "\n",
    "For each of them we apply the needed pre-processing of data and evaluate their performances."
   ]
  },
  {
   "cell_type": "markdown",
   "metadata": {},
   "source": [
    "# Model - Logistic Regression"
   ]
  },
  {
   "cell_type": "markdown",
   "metadata": {},
   "source": [
    "### Pre-processing\n",
    "Since we are going to apply regularization, it's advisible to standardize data. \n",
    "\n",
    "In order to fit the data in a reasonable amount of time, we take 20% of observation in the train set to train the model.\n"
   ]
  },
  {
   "cell_type": "code",
   "execution_count": 8,
   "metadata": {},
   "outputs": [],
   "source": [
    "from sklearn.preprocessing import StandardScaler\n",
    "scaler = StandardScaler()\n",
    "scaler.fit(x_train)\n",
    "x_train_scaled = scaler.transform(x_train)\n",
    "x_valid_scaled = scaler.transform(x_valid)\n",
    "x_test_scaled=scaler.transform(x_test)"
   ]
  },
  {
   "cell_type": "code",
   "execution_count": 9,
   "metadata": {},
   "outputs": [],
   "source": [
    "x_train_reduced=x_train_scaled[0:10000]\n",
    "y_train_reduced=y_train_scaled[0:10000]"
   ]
  },
  {
   "cell_type": "markdown",
   "metadata": {},
   "source": [
    "### Model estimation"
   ]
  },
  {
   "cell_type": "code",
   "execution_count": 10,
   "metadata": {},
   "outputs": [],
   "source": [
    "from sklearn.linear_model import LogisticRegression"
   ]
  },
  {
   "cell_type": "code",
   "execution_count": 11,
   "metadata": {},
   "outputs": [
    {
     "name": "stdout",
     "output_type": "stream",
     "text": [
      "{'penalty': ['l1', 'l2'], 'C': [0.0001, 0.001, 0.01, 0.1, 1, 10, 100, 1000], 'solver': ['liblinear', 'saga']}\n"
     ]
    }
   ],
   "source": [
    "# Define the grid for the grid search\n",
    "penalty = ['l1', 'l2']\n",
    "C = [0.0001, 0.001, 0.01, 0.1, 1, 10, 100, 1000]#inverse of regularization parameter = 1/lambda\n",
    "solver = ['liblinear', 'saga']#the only two solver which support both l1 and l2 regularization\n",
    "param_grid = dict(penalty=penalty,\n",
    "                  C=C,\n",
    "                  solver=solver)\n",
    "# Cross Validation strategy\n",
    "cv=StratifiedKFold(n_splits=5,shuffle=True,random_state=0)\n",
    "print(param_grid)"
   ]
  },
  {
   "cell_type": "code",
   "execution_count": null,
   "metadata": {},
   "outputs": [],
   "source": [
    "##################################################\n",
    "# Implement you model here\n",
    "##################################################\n",
    "\n",
    "logreg = LogisticRegression()\n",
    "# grid search con 5 fold cross validation\n",
    "grid_search = GridSearchCV(estimator=logreg,\n",
    "                            param_grid=param_grid,\n",
    "                            cv=cv,\n",
    "                            n_jobs=-1)\n",
    "grid_search.fit(x_train_reduced, y_train_reduced)\n",
    "\n",
    "print(grid_search.best_params_)\n",
    "print(\"Cross Validation Accuracy: %f\" % grid_search.best_score_)"
   ]
  },
  {
   "cell_type": "code",
   "execution_count": null,
   "metadata": {},
   "outputs": [],
   "source": [
    "# save the model to disk\n",
    "filename = 'grid_search_Logistic.sav'\n",
    "joblib.dump(grid_search, filename)"
   ]
  },
  {
   "cell_type": "code",
   "execution_count": 12,
   "metadata": {},
   "outputs": [],
   "source": [
    "# to load the model from disk\n",
    "filename = 'grid_search_Logistic.sav'\n",
    "grid_search = joblib.load(filename)"
   ]
  },
  {
   "cell_type": "code",
   "execution_count": 13,
   "metadata": {},
   "outputs": [
    {
     "data": {
      "text/plain": [
       "{'C': 1, 'penalty': 'l2', 'solver': 'saga'}"
      ]
     },
     "execution_count": 13,
     "metadata": {},
     "output_type": "execute_result"
    }
   ],
   "source": [
    "# optimal hyperparameters\n",
    "grid_search.best_params_"
   ]
  },
  {
   "cell_type": "code",
   "execution_count": 14,
   "metadata": {},
   "outputs": [
    {
     "data": {
      "text/plain": [
       "0.8411"
      ]
     },
     "execution_count": 14,
     "metadata": {},
     "output_type": "execute_result"
    }
   ],
   "source": [
    "#Performance in validation set of the optimal model \n",
    "grid_search.best_score_"
   ]
  },
  {
   "cell_type": "code",
   "execution_count": 11,
   "metadata": {},
   "outputs": [
    {
     "data": {
      "text/plain": [
       "0.841"
      ]
     },
     "execution_count": 11,
     "metadata": {},
     "output_type": "execute_result"
    }
   ],
   "source": [
    "#performance in the test set of the optimal model trained in a subset of full train set\n",
    "grid_search.score(x_valid_scaled, y_valid)"
   ]
  },
  {
   "cell_type": "code",
   "execution_count": 15,
   "metadata": {},
   "outputs": [
    {
     "data": {
      "text/html": [
       "<div>\n",
       "<style scoped>\n",
       "    .dataframe tbody tr th:only-of-type {\n",
       "        vertical-align: middle;\n",
       "    }\n",
       "\n",
       "    .dataframe tbody tr th {\n",
       "        vertical-align: top;\n",
       "    }\n",
       "\n",
       "    .dataframe thead th {\n",
       "        text-align: right;\n",
       "    }\n",
       "</style>\n",
       "<table border=\"1\" class=\"dataframe\">\n",
       "  <thead>\n",
       "    <tr style=\"text-align: right;\">\n",
       "      <th></th>\n",
       "      <th>params</th>\n",
       "      <th>mean_test_score</th>\n",
       "      <th>rank_test_score</th>\n",
       "    </tr>\n",
       "  </thead>\n",
       "  <tbody>\n",
       "    <tr>\n",
       "      <th>0</th>\n",
       "      <td>{'C': 0.0001, 'penalty': 'l1', 'solver': 'libl...</td>\n",
       "      <td>0.0942</td>\n",
       "      <td>32</td>\n",
       "    </tr>\n",
       "    <tr>\n",
       "      <th>1</th>\n",
       "      <td>{'C': 0.0001, 'penalty': 'l1', 'solver': 'saga'}</td>\n",
       "      <td>0.1026</td>\n",
       "      <td>31</td>\n",
       "    </tr>\n",
       "    <tr>\n",
       "      <th>2</th>\n",
       "      <td>{'C': 0.0001, 'penalty': 'l2', 'solver': 'libl...</td>\n",
       "      <td>0.7431</td>\n",
       "      <td>28</td>\n",
       "    </tr>\n",
       "    <tr>\n",
       "      <th>3</th>\n",
       "      <td>{'C': 0.0001, 'penalty': 'l2', 'solver': 'saga'}</td>\n",
       "      <td>0.7692</td>\n",
       "      <td>24</td>\n",
       "    </tr>\n",
       "    <tr>\n",
       "      <th>4</th>\n",
       "      <td>{'C': 0.001, 'penalty': 'l1', 'solver': 'libli...</td>\n",
       "      <td>0.3854</td>\n",
       "      <td>29</td>\n",
       "    </tr>\n",
       "    <tr>\n",
       "      <th>5</th>\n",
       "      <td>{'C': 0.001, 'penalty': 'l1', 'solver': 'saga'}</td>\n",
       "      <td>0.3780</td>\n",
       "      <td>30</td>\n",
       "    </tr>\n",
       "    <tr>\n",
       "      <th>6</th>\n",
       "      <td>{'C': 0.001, 'penalty': 'l2', 'solver': 'libli...</td>\n",
       "      <td>0.7985</td>\n",
       "      <td>18</td>\n",
       "    </tr>\n",
       "    <tr>\n",
       "      <th>7</th>\n",
       "      <td>{'C': 0.001, 'penalty': 'l2', 'solver': 'saga'}</td>\n",
       "      <td>0.8268</td>\n",
       "      <td>13</td>\n",
       "    </tr>\n",
       "    <tr>\n",
       "      <th>8</th>\n",
       "      <td>{'C': 0.01, 'penalty': 'l1', 'solver': 'liblin...</td>\n",
       "      <td>0.7835</td>\n",
       "      <td>22</td>\n",
       "    </tr>\n",
       "    <tr>\n",
       "      <th>9</th>\n",
       "      <td>{'C': 0.01, 'penalty': 'l1', 'solver': 'saga'}</td>\n",
       "      <td>0.7869</td>\n",
       "      <td>20</td>\n",
       "    </tr>\n",
       "    <tr>\n",
       "      <th>10</th>\n",
       "      <td>{'C': 0.01, 'penalty': 'l2', 'solver': 'liblin...</td>\n",
       "      <td>0.8260</td>\n",
       "      <td>15</td>\n",
       "    </tr>\n",
       "    <tr>\n",
       "      <th>11</th>\n",
       "      <td>{'C': 0.01, 'penalty': 'l2', 'solver': 'saga'}</td>\n",
       "      <td>0.8403</td>\n",
       "      <td>10</td>\n",
       "    </tr>\n",
       "    <tr>\n",
       "      <th>12</th>\n",
       "      <td>{'C': 0.1, 'penalty': 'l1', 'solver': 'libline...</td>\n",
       "      <td>0.8352</td>\n",
       "      <td>12</td>\n",
       "    </tr>\n",
       "    <tr>\n",
       "      <th>13</th>\n",
       "      <td>{'C': 0.1, 'penalty': 'l1', 'solver': 'saga'}</td>\n",
       "      <td>0.8361</td>\n",
       "      <td>11</td>\n",
       "    </tr>\n",
       "    <tr>\n",
       "      <th>14</th>\n",
       "      <td>{'C': 0.1, 'penalty': 'l2', 'solver': 'libline...</td>\n",
       "      <td>0.8261</td>\n",
       "      <td>14</td>\n",
       "    </tr>\n",
       "    <tr>\n",
       "      <th>15</th>\n",
       "      <td>{'C': 0.1, 'penalty': 'l2', 'solver': 'saga'}</td>\n",
       "      <td>0.8408</td>\n",
       "      <td>3</td>\n",
       "    </tr>\n",
       "    <tr>\n",
       "      <th>16</th>\n",
       "      <td>{'C': 1, 'penalty': 'l1', 'solver': 'liblinear'}</td>\n",
       "      <td>0.8204</td>\n",
       "      <td>16</td>\n",
       "    </tr>\n",
       "    <tr>\n",
       "      <th>17</th>\n",
       "      <td>{'C': 1, 'penalty': 'l1', 'solver': 'saga'}</td>\n",
       "      <td>0.8407</td>\n",
       "      <td>8</td>\n",
       "    </tr>\n",
       "    <tr>\n",
       "      <th>18</th>\n",
       "      <td>{'C': 1, 'penalty': 'l2', 'solver': 'liblinear'}</td>\n",
       "      <td>0.8071</td>\n",
       "      <td>17</td>\n",
       "    </tr>\n",
       "    <tr>\n",
       "      <th>19</th>\n",
       "      <td>{'C': 1, 'penalty': 'l2', 'solver': 'saga'}</td>\n",
       "      <td>0.8411</td>\n",
       "      <td>1</td>\n",
       "    </tr>\n",
       "    <tr>\n",
       "      <th>20</th>\n",
       "      <td>{'C': 10, 'penalty': 'l1', 'solver': 'liblinear'}</td>\n",
       "      <td>0.7856</td>\n",
       "      <td>21</td>\n",
       "    </tr>\n",
       "    <tr>\n",
       "      <th>21</th>\n",
       "      <td>{'C': 10, 'penalty': 'l1', 'solver': 'saga'}</td>\n",
       "      <td>0.8408</td>\n",
       "      <td>3</td>\n",
       "    </tr>\n",
       "    <tr>\n",
       "      <th>22</th>\n",
       "      <td>{'C': 10, 'penalty': 'l2', 'solver': 'liblinear'}</td>\n",
       "      <td>0.7881</td>\n",
       "      <td>19</td>\n",
       "    </tr>\n",
       "    <tr>\n",
       "      <th>23</th>\n",
       "      <td>{'C': 10, 'penalty': 'l2', 'solver': 'saga'}</td>\n",
       "      <td>0.8408</td>\n",
       "      <td>3</td>\n",
       "    </tr>\n",
       "    <tr>\n",
       "      <th>24</th>\n",
       "      <td>{'C': 100, 'penalty': 'l1', 'solver': 'libline...</td>\n",
       "      <td>0.7630</td>\n",
       "      <td>25</td>\n",
       "    </tr>\n",
       "    <tr>\n",
       "      <th>25</th>\n",
       "      <td>{'C': 100, 'penalty': 'l1', 'solver': 'saga'}</td>\n",
       "      <td>0.8408</td>\n",
       "      <td>7</td>\n",
       "    </tr>\n",
       "    <tr>\n",
       "      <th>26</th>\n",
       "      <td>{'C': 100, 'penalty': 'l2', 'solver': 'libline...</td>\n",
       "      <td>0.7719</td>\n",
       "      <td>23</td>\n",
       "    </tr>\n",
       "    <tr>\n",
       "      <th>27</th>\n",
       "      <td>{'C': 100, 'penalty': 'l2', 'solver': 'saga'}</td>\n",
       "      <td>0.8407</td>\n",
       "      <td>8</td>\n",
       "    </tr>\n",
       "    <tr>\n",
       "      <th>28</th>\n",
       "      <td>{'C': 1000, 'penalty': 'l1', 'solver': 'liblin...</td>\n",
       "      <td>0.7529</td>\n",
       "      <td>27</td>\n",
       "    </tr>\n",
       "    <tr>\n",
       "      <th>29</th>\n",
       "      <td>{'C': 1000, 'penalty': 'l1', 'solver': 'saga'}</td>\n",
       "      <td>0.8410</td>\n",
       "      <td>2</td>\n",
       "    </tr>\n",
       "    <tr>\n",
       "      <th>30</th>\n",
       "      <td>{'C': 1000, 'penalty': 'l2', 'solver': 'liblin...</td>\n",
       "      <td>0.7622</td>\n",
       "      <td>26</td>\n",
       "    </tr>\n",
       "    <tr>\n",
       "      <th>31</th>\n",
       "      <td>{'C': 1000, 'penalty': 'l2', 'solver': 'saga'}</td>\n",
       "      <td>0.8408</td>\n",
       "      <td>3</td>\n",
       "    </tr>\n",
       "  </tbody>\n",
       "</table>\n",
       "</div>"
      ],
      "text/plain": [
       "                                               params  mean_test_score  \\\n",
       "0   {'C': 0.0001, 'penalty': 'l1', 'solver': 'libl...           0.0942   \n",
       "1    {'C': 0.0001, 'penalty': 'l1', 'solver': 'saga'}           0.1026   \n",
       "2   {'C': 0.0001, 'penalty': 'l2', 'solver': 'libl...           0.7431   \n",
       "3    {'C': 0.0001, 'penalty': 'l2', 'solver': 'saga'}           0.7692   \n",
       "4   {'C': 0.001, 'penalty': 'l1', 'solver': 'libli...           0.3854   \n",
       "5     {'C': 0.001, 'penalty': 'l1', 'solver': 'saga'}           0.3780   \n",
       "6   {'C': 0.001, 'penalty': 'l2', 'solver': 'libli...           0.7985   \n",
       "7     {'C': 0.001, 'penalty': 'l2', 'solver': 'saga'}           0.8268   \n",
       "8   {'C': 0.01, 'penalty': 'l1', 'solver': 'liblin...           0.7835   \n",
       "9      {'C': 0.01, 'penalty': 'l1', 'solver': 'saga'}           0.7869   \n",
       "10  {'C': 0.01, 'penalty': 'l2', 'solver': 'liblin...           0.8260   \n",
       "11     {'C': 0.01, 'penalty': 'l2', 'solver': 'saga'}           0.8403   \n",
       "12  {'C': 0.1, 'penalty': 'l1', 'solver': 'libline...           0.8352   \n",
       "13      {'C': 0.1, 'penalty': 'l1', 'solver': 'saga'}           0.8361   \n",
       "14  {'C': 0.1, 'penalty': 'l2', 'solver': 'libline...           0.8261   \n",
       "15      {'C': 0.1, 'penalty': 'l2', 'solver': 'saga'}           0.8408   \n",
       "16   {'C': 1, 'penalty': 'l1', 'solver': 'liblinear'}           0.8204   \n",
       "17        {'C': 1, 'penalty': 'l1', 'solver': 'saga'}           0.8407   \n",
       "18   {'C': 1, 'penalty': 'l2', 'solver': 'liblinear'}           0.8071   \n",
       "19        {'C': 1, 'penalty': 'l2', 'solver': 'saga'}           0.8411   \n",
       "20  {'C': 10, 'penalty': 'l1', 'solver': 'liblinear'}           0.7856   \n",
       "21       {'C': 10, 'penalty': 'l1', 'solver': 'saga'}           0.8408   \n",
       "22  {'C': 10, 'penalty': 'l2', 'solver': 'liblinear'}           0.7881   \n",
       "23       {'C': 10, 'penalty': 'l2', 'solver': 'saga'}           0.8408   \n",
       "24  {'C': 100, 'penalty': 'l1', 'solver': 'libline...           0.7630   \n",
       "25      {'C': 100, 'penalty': 'l1', 'solver': 'saga'}           0.8408   \n",
       "26  {'C': 100, 'penalty': 'l2', 'solver': 'libline...           0.7719   \n",
       "27      {'C': 100, 'penalty': 'l2', 'solver': 'saga'}           0.8407   \n",
       "28  {'C': 1000, 'penalty': 'l1', 'solver': 'liblin...           0.7529   \n",
       "29     {'C': 1000, 'penalty': 'l1', 'solver': 'saga'}           0.8410   \n",
       "30  {'C': 1000, 'penalty': 'l2', 'solver': 'liblin...           0.7622   \n",
       "31     {'C': 1000, 'penalty': 'l2', 'solver': 'saga'}           0.8408   \n",
       "\n",
       "    rank_test_score  \n",
       "0                32  \n",
       "1                31  \n",
       "2                28  \n",
       "3                24  \n",
       "4                29  \n",
       "5                30  \n",
       "6                18  \n",
       "7                13  \n",
       "8                22  \n",
       "9                20  \n",
       "10               15  \n",
       "11               10  \n",
       "12               12  \n",
       "13               11  \n",
       "14               14  \n",
       "15                3  \n",
       "16               16  \n",
       "17                8  \n",
       "18               17  \n",
       "19                1  \n",
       "20               21  \n",
       "21                3  \n",
       "22               19  \n",
       "23                3  \n",
       "24               25  \n",
       "25                7  \n",
       "26               23  \n",
       "27                8  \n",
       "28               27  \n",
       "29                2  \n",
       "30               26  \n",
       "31                3  "
      ]
     },
     "execution_count": 15,
     "metadata": {},
     "output_type": "execute_result"
    }
   ],
   "source": [
    "results_grid_search_logistic = pd.DataFrame(grid_search.cv_results_)\n",
    "results_grid_search_logistic=results_grid_search_logistic[['params','mean_test_score','rank_test_score']]\n",
    "results_grid_search_logistic"
   ]
  },
  {
   "cell_type": "code",
   "execution_count": 17,
   "metadata": {},
   "outputs": [
    {
     "data": {
      "text/html": [
       "<div>\n",
       "<style scoped>\n",
       "    .dataframe tbody tr th:only-of-type {\n",
       "        vertical-align: middle;\n",
       "    }\n",
       "\n",
       "    .dataframe tbody tr th {\n",
       "        vertical-align: top;\n",
       "    }\n",
       "\n",
       "    .dataframe thead th {\n",
       "        text-align: right;\n",
       "    }\n",
       "</style>\n",
       "<table border=\"1\" class=\"dataframe\">\n",
       "  <thead>\n",
       "    <tr style=\"text-align: right;\">\n",
       "      <th></th>\n",
       "      <th>params</th>\n",
       "      <th>mean_test_score</th>\n",
       "      <th>rank_test_score</th>\n",
       "    </tr>\n",
       "  </thead>\n",
       "  <tbody>\n",
       "    <tr>\n",
       "      <th>0</th>\n",
       "      <td>{'C': 0.0001, 'penalty': 'l1', 'solver': 'libl...</td>\n",
       "      <td>0.0942</td>\n",
       "      <td>32</td>\n",
       "    </tr>\n",
       "    <tr>\n",
       "      <th>1</th>\n",
       "      <td>{'C': 0.0001, 'penalty': 'l1', 'solver': 'saga'}</td>\n",
       "      <td>0.1026</td>\n",
       "      <td>31</td>\n",
       "    </tr>\n",
       "    <tr>\n",
       "      <th>2</th>\n",
       "      <td>{'C': 0.0001, 'penalty': 'l2', 'solver': 'libl...</td>\n",
       "      <td>0.7431</td>\n",
       "      <td>28</td>\n",
       "    </tr>\n",
       "    <tr>\n",
       "      <th>3</th>\n",
       "      <td>{'C': 0.0001, 'penalty': 'l2', 'solver': 'saga'}</td>\n",
       "      <td>0.7692</td>\n",
       "      <td>24</td>\n",
       "    </tr>\n",
       "    <tr>\n",
       "      <th>4</th>\n",
       "      <td>{'C': 0.001, 'penalty': 'l1', 'solver': 'libli...</td>\n",
       "      <td>0.3854</td>\n",
       "      <td>29</td>\n",
       "    </tr>\n",
       "    <tr>\n",
       "      <th>5</th>\n",
       "      <td>{'C': 0.001, 'penalty': 'l1', 'solver': 'saga'}</td>\n",
       "      <td>0.3780</td>\n",
       "      <td>30</td>\n",
       "    </tr>\n",
       "    <tr>\n",
       "      <th>6</th>\n",
       "      <td>{'C': 0.001, 'penalty': 'l2', 'solver': 'libli...</td>\n",
       "      <td>0.7985</td>\n",
       "      <td>18</td>\n",
       "    </tr>\n",
       "    <tr>\n",
       "      <th>7</th>\n",
       "      <td>{'C': 0.001, 'penalty': 'l2', 'solver': 'saga'}</td>\n",
       "      <td>0.8268</td>\n",
       "      <td>13</td>\n",
       "    </tr>\n",
       "    <tr>\n",
       "      <th>8</th>\n",
       "      <td>{'C': 0.01, 'penalty': 'l1', 'solver': 'liblin...</td>\n",
       "      <td>0.7835</td>\n",
       "      <td>22</td>\n",
       "    </tr>\n",
       "    <tr>\n",
       "      <th>9</th>\n",
       "      <td>{'C': 0.01, 'penalty': 'l1', 'solver': 'saga'}</td>\n",
       "      <td>0.7869</td>\n",
       "      <td>20</td>\n",
       "    </tr>\n",
       "    <tr>\n",
       "      <th>10</th>\n",
       "      <td>{'C': 0.01, 'penalty': 'l2', 'solver': 'liblin...</td>\n",
       "      <td>0.8260</td>\n",
       "      <td>15</td>\n",
       "    </tr>\n",
       "    <tr>\n",
       "      <th>11</th>\n",
       "      <td>{'C': 0.01, 'penalty': 'l2', 'solver': 'saga'}</td>\n",
       "      <td>0.8403</td>\n",
       "      <td>10</td>\n",
       "    </tr>\n",
       "    <tr>\n",
       "      <th>12</th>\n",
       "      <td>{'C': 0.1, 'penalty': 'l1', 'solver': 'libline...</td>\n",
       "      <td>0.8352</td>\n",
       "      <td>12</td>\n",
       "    </tr>\n",
       "    <tr>\n",
       "      <th>13</th>\n",
       "      <td>{'C': 0.1, 'penalty': 'l1', 'solver': 'saga'}</td>\n",
       "      <td>0.8361</td>\n",
       "      <td>11</td>\n",
       "    </tr>\n",
       "    <tr>\n",
       "      <th>14</th>\n",
       "      <td>{'C': 0.1, 'penalty': 'l2', 'solver': 'libline...</td>\n",
       "      <td>0.8261</td>\n",
       "      <td>14</td>\n",
       "    </tr>\n",
       "    <tr>\n",
       "      <th>15</th>\n",
       "      <td>{'C': 0.1, 'penalty': 'l2', 'solver': 'saga'}</td>\n",
       "      <td>0.8408</td>\n",
       "      <td>3</td>\n",
       "    </tr>\n",
       "    <tr>\n",
       "      <th>16</th>\n",
       "      <td>{'C': 1, 'penalty': 'l1', 'solver': 'liblinear'}</td>\n",
       "      <td>0.8204</td>\n",
       "      <td>16</td>\n",
       "    </tr>\n",
       "    <tr>\n",
       "      <th>17</th>\n",
       "      <td>{'C': 1, 'penalty': 'l1', 'solver': 'saga'}</td>\n",
       "      <td>0.8407</td>\n",
       "      <td>8</td>\n",
       "    </tr>\n",
       "    <tr>\n",
       "      <th>18</th>\n",
       "      <td>{'C': 1, 'penalty': 'l2', 'solver': 'liblinear'}</td>\n",
       "      <td>0.8071</td>\n",
       "      <td>17</td>\n",
       "    </tr>\n",
       "    <tr>\n",
       "      <th>19</th>\n",
       "      <td>{'C': 1, 'penalty': 'l2', 'solver': 'saga'}</td>\n",
       "      <td>0.8411</td>\n",
       "      <td>1</td>\n",
       "    </tr>\n",
       "    <tr>\n",
       "      <th>20</th>\n",
       "      <td>{'C': 10, 'penalty': 'l1', 'solver': 'liblinear'}</td>\n",
       "      <td>0.7856</td>\n",
       "      <td>21</td>\n",
       "    </tr>\n",
       "    <tr>\n",
       "      <th>21</th>\n",
       "      <td>{'C': 10, 'penalty': 'l1', 'solver': 'saga'}</td>\n",
       "      <td>0.8408</td>\n",
       "      <td>3</td>\n",
       "    </tr>\n",
       "    <tr>\n",
       "      <th>22</th>\n",
       "      <td>{'C': 10, 'penalty': 'l2', 'solver': 'liblinear'}</td>\n",
       "      <td>0.7881</td>\n",
       "      <td>19</td>\n",
       "    </tr>\n",
       "    <tr>\n",
       "      <th>23</th>\n",
       "      <td>{'C': 10, 'penalty': 'l2', 'solver': 'saga'}</td>\n",
       "      <td>0.8408</td>\n",
       "      <td>3</td>\n",
       "    </tr>\n",
       "    <tr>\n",
       "      <th>24</th>\n",
       "      <td>{'C': 100, 'penalty': 'l1', 'solver': 'libline...</td>\n",
       "      <td>0.7630</td>\n",
       "      <td>25</td>\n",
       "    </tr>\n",
       "    <tr>\n",
       "      <th>25</th>\n",
       "      <td>{'C': 100, 'penalty': 'l1', 'solver': 'saga'}</td>\n",
       "      <td>0.8408</td>\n",
       "      <td>7</td>\n",
       "    </tr>\n",
       "    <tr>\n",
       "      <th>26</th>\n",
       "      <td>{'C': 100, 'penalty': 'l2', 'solver': 'libline...</td>\n",
       "      <td>0.7719</td>\n",
       "      <td>23</td>\n",
       "    </tr>\n",
       "    <tr>\n",
       "      <th>27</th>\n",
       "      <td>{'C': 100, 'penalty': 'l2', 'solver': 'saga'}</td>\n",
       "      <td>0.8407</td>\n",
       "      <td>8</td>\n",
       "    </tr>\n",
       "    <tr>\n",
       "      <th>28</th>\n",
       "      <td>{'C': 1000, 'penalty': 'l1', 'solver': 'liblin...</td>\n",
       "      <td>0.7529</td>\n",
       "      <td>27</td>\n",
       "    </tr>\n",
       "    <tr>\n",
       "      <th>29</th>\n",
       "      <td>{'C': 1000, 'penalty': 'l1', 'solver': 'saga'}</td>\n",
       "      <td>0.8410</td>\n",
       "      <td>2</td>\n",
       "    </tr>\n",
       "    <tr>\n",
       "      <th>30</th>\n",
       "      <td>{'C': 1000, 'penalty': 'l2', 'solver': 'liblin...</td>\n",
       "      <td>0.7622</td>\n",
       "      <td>26</td>\n",
       "    </tr>\n",
       "    <tr>\n",
       "      <th>31</th>\n",
       "      <td>{'C': 1000, 'penalty': 'l2', 'solver': 'saga'}</td>\n",
       "      <td>0.8408</td>\n",
       "      <td>3</td>\n",
       "    </tr>\n",
       "  </tbody>\n",
       "</table>\n",
       "</div>"
      ],
      "text/plain": [
       "                                               params  mean_test_score  \\\n",
       "0   {'C': 0.0001, 'penalty': 'l1', 'solver': 'libl...           0.0942   \n",
       "1    {'C': 0.0001, 'penalty': 'l1', 'solver': 'saga'}           0.1026   \n",
       "2   {'C': 0.0001, 'penalty': 'l2', 'solver': 'libl...           0.7431   \n",
       "3    {'C': 0.0001, 'penalty': 'l2', 'solver': 'saga'}           0.7692   \n",
       "4   {'C': 0.001, 'penalty': 'l1', 'solver': 'libli...           0.3854   \n",
       "5     {'C': 0.001, 'penalty': 'l1', 'solver': 'saga'}           0.3780   \n",
       "6   {'C': 0.001, 'penalty': 'l2', 'solver': 'libli...           0.7985   \n",
       "7     {'C': 0.001, 'penalty': 'l2', 'solver': 'saga'}           0.8268   \n",
       "8   {'C': 0.01, 'penalty': 'l1', 'solver': 'liblin...           0.7835   \n",
       "9      {'C': 0.01, 'penalty': 'l1', 'solver': 'saga'}           0.7869   \n",
       "10  {'C': 0.01, 'penalty': 'l2', 'solver': 'liblin...           0.8260   \n",
       "11     {'C': 0.01, 'penalty': 'l2', 'solver': 'saga'}           0.8403   \n",
       "12  {'C': 0.1, 'penalty': 'l1', 'solver': 'libline...           0.8352   \n",
       "13      {'C': 0.1, 'penalty': 'l1', 'solver': 'saga'}           0.8361   \n",
       "14  {'C': 0.1, 'penalty': 'l2', 'solver': 'libline...           0.8261   \n",
       "15      {'C': 0.1, 'penalty': 'l2', 'solver': 'saga'}           0.8408   \n",
       "16   {'C': 1, 'penalty': 'l1', 'solver': 'liblinear'}           0.8204   \n",
       "17        {'C': 1, 'penalty': 'l1', 'solver': 'saga'}           0.8407   \n",
       "18   {'C': 1, 'penalty': 'l2', 'solver': 'liblinear'}           0.8071   \n",
       "19        {'C': 1, 'penalty': 'l2', 'solver': 'saga'}           0.8411   \n",
       "20  {'C': 10, 'penalty': 'l1', 'solver': 'liblinear'}           0.7856   \n",
       "21       {'C': 10, 'penalty': 'l1', 'solver': 'saga'}           0.8408   \n",
       "22  {'C': 10, 'penalty': 'l2', 'solver': 'liblinear'}           0.7881   \n",
       "23       {'C': 10, 'penalty': 'l2', 'solver': 'saga'}           0.8408   \n",
       "24  {'C': 100, 'penalty': 'l1', 'solver': 'libline...           0.7630   \n",
       "25      {'C': 100, 'penalty': 'l1', 'solver': 'saga'}           0.8408   \n",
       "26  {'C': 100, 'penalty': 'l2', 'solver': 'libline...           0.7719   \n",
       "27      {'C': 100, 'penalty': 'l2', 'solver': 'saga'}           0.8407   \n",
       "28  {'C': 1000, 'penalty': 'l1', 'solver': 'liblin...           0.7529   \n",
       "29     {'C': 1000, 'penalty': 'l1', 'solver': 'saga'}           0.8410   \n",
       "30  {'C': 1000, 'penalty': 'l2', 'solver': 'liblin...           0.7622   \n",
       "31     {'C': 1000, 'penalty': 'l2', 'solver': 'saga'}           0.8408   \n",
       "\n",
       "    rank_test_score  \n",
       "0                32  \n",
       "1                31  \n",
       "2                28  \n",
       "3                24  \n",
       "4                29  \n",
       "5                30  \n",
       "6                18  \n",
       "7                13  \n",
       "8                22  \n",
       "9                20  \n",
       "10               15  \n",
       "11               10  \n",
       "12               12  \n",
       "13               11  \n",
       "14               14  \n",
       "15                3  \n",
       "16               16  \n",
       "17                8  \n",
       "18               17  \n",
       "19                1  \n",
       "20               21  \n",
       "21                3  \n",
       "22               19  \n",
       "23                3  \n",
       "24               25  \n",
       "25                7  \n",
       "26               23  \n",
       "27                8  \n",
       "28               27  \n",
       "29                2  \n",
       "30               26  \n",
       "31                3  "
      ]
     },
     "execution_count": 17,
     "metadata": {},
     "output_type": "execute_result"
    }
   ],
   "source": [
    "#If the .sav file is too big to be shared with professor, we could save the dataFrame as a .csv\n",
    "#and share only it.\n",
    "results_grid_search_logistic.to_csv('results_grid_search_logistic.csv', sep=',',index=False)\n",
    "\n",
    "#read the model\n",
    "pd.read_csv('results_grid_search_logistic.csv')"
   ]
  },
  {
   "cell_type": "markdown",
   "metadata": {},
   "source": [
    "### Train the model with the optimal hyperparameters on the full Training Set\n",
    "Train the model with optimal hyperparameters found in the reduced training set, on the full train set."
   ]
  },
  {
   "cell_type": "code",
   "execution_count": 22,
   "metadata": {},
   "outputs": [
    {
     "name": "stderr",
     "output_type": "stream",
     "text": [
      "C:\\Users\\Vittorino\\Anaconda3\\lib\\site-packages\\sklearn\\linear_model\\_sag.py:330: ConvergenceWarning: The max_iter was reached which means the coef_ did not converge\n",
      "  \"the coef_ did not converge\", ConvergenceWarning)\n"
     ]
    },
    {
     "data": {
      "text/plain": [
       "LogisticRegression(C=1, class_weight=None, dual=False, fit_intercept=True,\n",
       "                   intercept_scaling=1, l1_ratio=None, max_iter=1000,\n",
       "                   multi_class='auto', n_jobs=None, penalty='l2',\n",
       "                   random_state=None, solver='saga', tol=0.0001, verbose=0,\n",
       "                   warm_start=False)"
      ]
     },
     "execution_count": 22,
     "metadata": {},
     "output_type": "execute_result"
    }
   ],
   "source": [
    "logreg = LogisticRegression(penalty='l2',#ridge regularization\n",
    "                            C=1,\n",
    "                            solver='saga',\n",
    "                            max_iter=1000)\n",
    "logreg.fit(x_train_scaled,y_train)"
   ]
  },
  {
   "cell_type": "markdown",
   "metadata": {},
   "source": [
    "### Model evaluation"
   ]
  },
  {
   "cell_type": "code",
   "execution_count": 24,
   "metadata": {},
   "outputs": [
    {
     "data": {
      "text/plain": [
       "0.8492"
      ]
     },
     "execution_count": 24,
     "metadata": {},
     "output_type": "execute_result"
    }
   ],
   "source": [
    "logreg.score(x_valid_scaled, y_valid)"
   ]
  },
  {
   "cell_type": "code",
   "execution_count": 23,
   "metadata": {},
   "outputs": [
    {
     "data": {
      "text/plain": [
       "['LogisticRegr.sav']"
      ]
     },
     "execution_count": 23,
     "metadata": {},
     "output_type": "execute_result"
    }
   ],
   "source": [
    "# save the model to disk\n",
    "filename = 'LogisticRegr.sav'\n",
    "joblib.dump(logreg, filename)"
   ]
  },
  {
   "cell_type": "code",
   "execution_count": 20,
   "metadata": {},
   "outputs": [],
   "source": [
    "# to load the model from disk\n",
    "filename = 'LogisticRegr.sav'\n",
    "logreg=joblib.load(filename)"
   ]
  },
  {
   "cell_type": "code",
   "execution_count": 25,
   "metadata": {},
   "outputs": [
    {
     "data": {
      "image/png": "[encoded data removed]",
      "text/plain": [
       "<Figure size 1440x1440 with 2 Axes>"
      ]
     },
     "metadata": {
      "needs_background": "light"
     },
     "output_type": "display_data"
    }
   ],
   "source": [
    "# confusion matrix\n",
    "fig, ax = plt.subplots(figsize=(20, 20))\n",
    "disp = metrics.plot_confusion_matrix(logreg, x_valid_scaled, y_valid,\n",
    "                                     normalize='true', \n",
    "                                     include_values=True,\n",
    "                                     display_labels=y_labels,\n",
    "                                     ax=ax)"
   ]
  },
  {
   "cell_type": "markdown",
   "metadata": {},
   "source": [
    "### Prediction on test set\n",
    "\n",
    "Based on the model we have trained, these are our prediction for the unknown label in the test set: "
   ]
  },
  {
   "cell_type": "code",
   "execution_count": null,
   "metadata": {},
   "outputs": [],
   "source": [
    "y_pred_logreg=logreg.predict(x_test_scaled)"
   ]
  },
  {
   "cell_type": "code",
   "execution_count": null,
   "metadata": {},
   "outputs": [],
   "source": [
    "# save that on a .csv file for the submission\n",
    "predictions_logreg_file = y_pred_logreg.to_csv('y_predictions_logreg.csv', sep=',',index=False)"
   ]
  },
  {
   "cell_type": "markdown",
   "metadata": {},
   "source": [
    "# Model - KNN"
   ]
  },
  {
   "cell_type": "code",
   "execution_count": 10,
   "metadata": {},
   "outputs": [],
   "source": [
    "from sklearn.neighbors import KNeighborsClassifier"
   ]
  },
  {
   "cell_type": "markdown",
   "metadata": {},
   "source": [
    "### Pre-processing\n",
    "For better numerical stability is advisible to divide by 255 each feature.\n"
   ]
  },
  {
   "cell_type": "code",
   "execution_count": 11,
   "metadata": {},
   "outputs": [],
   "source": [
    "x_train_norm=x_train/255\n",
    "x_valid_norm=x_valid/255\n",
    "x_test_norm=x_test/255"
   ]
  },
  {
   "cell_type": "markdown",
   "metadata": {},
   "source": [
    "### Model estimation\n",
    "We use grid search to find the best value of k (='n_neighbors'). \n",
    "\n",
    "We do not look for the best value of $p$ in the $L_p$ metrics, because theorical \n",
    "results have prooved that the meaningfulness of the $L_p$ norm worsens faster within \n",
    "increasing dimensionality for higher values of $p$. Thus, for a given problem with a \n",
    "fixed (high) value for the dimensionality $d$, it is preferable to use lower values of $p$.\n",
    "This means that the $L_1$ distance metric (Manhattan distance metric) is the most preferable \n",
    "for high dimensional applications, followed by the Euclidean metric ($L_2$).  \n",
    "For reference see:\n",
    "\n",
    "- Charu C. Aggarwal, Alexander Hinneburg, Daniel A. Keim, \"On the Surprising Behavior of    Distance Metrics in High Dimensional Space\"\n",
    "- Kevin Beyer, Jonathan Goldstein, Raghu Ramakrishnan, Uri Shaft, \"When Is 'Nearest Neighbor' Meaningful?\""
   ]
  },
  {
   "cell_type": "code",
   "execution_count": null,
   "metadata": {},
   "outputs": [],
   "source": [
    "# Define the grid for the grid search\n",
    "param_grid = {'n_neighbors': list(range(1,21))}\n",
    "# Cross Validation strategy\n",
    "cv=StratifiedKFold(n_splits=5,shuffle=True,random_state=0)\n",
    "print(param_grid)"
   ]
  },
  {
   "cell_type": "code",
   "execution_count": null,
   "metadata": {},
   "outputs": [],
   "source": [
    "##################################################\n",
    "# Implement you model here\n",
    "##################################################\n",
    "knn = KNeighborsClassifier()\n",
    "# grid search with 5 fold cross validation\n",
    "grid_search = GridSearchCV(KNeighborsClassifier(p=1),\n",
    "                           param_grid, \n",
    "                           cv=cv,\n",
    "                           n_jobs=-1)\n",
    "grid_search.fit(x_train_norm, y_train)\n",
    "print(grid_search.best_params_)\n",
    "print(\"Cross Validation Accuracy: %f\" % grid_search.best_score_)"
   ]
  },
  {
   "cell_type": "code",
   "execution_count": null,
   "metadata": {},
   "outputs": [],
   "source": [
    "# save the model to disk\n",
    "filename = 'grid_search_knn.sav'\n",
    "joblib.dump(grid_search, filename)"
   ]
  },
  {
   "cell_type": "code",
   "execution_count": 26,
   "metadata": {},
   "outputs": [],
   "source": [
    "# to load the model from disk\n",
    "filename = 'grid_search_knn.sav'\n",
    "grid_search = joblib.load(filename)"
   ]
  },
  {
   "cell_type": "code",
   "execution_count": 27,
   "metadata": {},
   "outputs": [
    {
     "data": {
      "text/plain": [
       "{'n_neighbors': 5}"
      ]
     },
     "execution_count": 27,
     "metadata": {},
     "output_type": "execute_result"
    }
   ],
   "source": [
    "# optimal hyperparameters\n",
    "grid_search.best_params_"
   ]
  },
  {
   "cell_type": "code",
   "execution_count": 28,
   "metadata": {},
   "outputs": [
    {
     "data": {
      "text/plain": [
       "0.85958"
      ]
     },
     "execution_count": 28,
     "metadata": {},
     "output_type": "execute_result"
    }
   ],
   "source": [
    "#Performance in validation set of the optimal model \n",
    "grid_search.best_score_"
   ]
  },
  {
   "cell_type": "code",
   "execution_count": 31,
   "metadata": {},
   "outputs": [
    {
     "data": {
      "text/plain": [
       "0.857"
      ]
     },
     "execution_count": 31,
     "metadata": {},
     "output_type": "execute_result"
    }
   ],
   "source": [
    "#performance in the test set of the optimal model trained in the full train set\n",
    "grid_search.score(x_valid_norm, y_valid)"
   ]
  },
  {
   "cell_type": "markdown",
   "metadata": {},
   "source": [
    "## Test with Euclidean Distance\n",
    "To check if the Manhattan metric yields better results than the Euclidean we make the same grid search using the L2 metric. "
   ]
  },
  {
   "cell_type": "code",
   "execution_count": null,
   "metadata": {},
   "outputs": [],
   "source": [
    "# STRATIFIED KFOLD + GRID SEARCH (EUCLIDEAN METRIC (L2))\n",
    "# use grid search to find the best value of k\n",
    "\n",
    "# with p=2 we are using the euclidean Distance (default parameter)\n",
    "grid_search_euclidean = GridSearchCV(\n",
    "    KNeighborsClassifier(p=2), param_grid, cv=cv, n_jobs=-1)\n",
    "grid_search_euclidean.fit(x_train_norm, y_train)"
   ]
  },
  {
   "cell_type": "code",
   "execution_count": null,
   "metadata": {},
   "outputs": [],
   "source": [
    "# save the model to disk\n",
    "joblib.dump(grid_search_euclidean, \"grid_search_knn_euclidean.sav\")"
   ]
  },
  {
   "cell_type": "code",
   "execution_count": 12,
   "metadata": {},
   "outputs": [],
   "source": [
    "# to load the trained model from disk\n",
    "filename = '../ml aux/models/grid_search_knn_euclidean.sav'\n",
    "grid_search_euclidean = joblib.load(filename)"
   ]
  },
  {
   "cell_type": "code",
   "execution_count": 13,
   "metadata": {},
   "outputs": [
    {
     "name": "stdout",
     "output_type": "stream",
     "text": [
      "Best parameters: {'n_neighbors': 6}\n",
      "Best cross-validation score: 0.85\n"
     ]
    }
   ],
   "source": [
    "# PRINT EUCLIDEAN MODEL PERFORMANCE\n",
    "print(\"Best parameters: {}\".format(grid_search_euclidean.best_params_))\n",
    "print(\\\n",
    "    \"Best cross-validation score: {:.2f}\".format(grid_search_euclidean.best_score_))"
   ]
  },
  {
   "cell_type": "code",
   "execution_count": 14,
   "metadata": {},
   "outputs": [
    {
     "data": {
      "text/plain": [
       "0.8547"
      ]
     },
     "execution_count": 14,
     "metadata": {},
     "output_type": "execute_result"
    }
   ],
   "source": [
    "#performance in the test set of the optimal model trained in the full train set\n",
    "grid_search_euclidean.score(x_valid_norm, y_valid)"
   ]
  },
  {
   "cell_type": "markdown",
   "metadata": {},
   "source": [
    "### Dimensionaly reduction using PCA\n",
    "To recognize an item, we don't look at the single pixel, but at the overall image.\n",
    "So extracting Principal Components (PCs) and using them to identify different items \n",
    "is an attempt to mimic how humans identify items.\n",
    "Using the optimal value of $k$ found before, we look how much varies the accuracy\n",
    "in train and valid set increasing the n° of PCs used to approximate each sample.\n",
    "Around 20 PCs, the Accuracy curve starts being flat, meaning that adding further \n",
    "PCs increases just a little the performance, so it's not worth to add them."
   ]
  },
  {
   "cell_type": "code",
   "execution_count": 38,
   "metadata": {},
   "outputs": [],
   "source": [
    "from sklearn.decomposition import PCA"
   ]
  },
  {
   "cell_type": "code",
   "execution_count": null,
   "metadata": {},
   "outputs": [],
   "source": [
    "test_accuracy = []\n",
    "PC_number = range(1, 101)\n",
    "for i in PC_number:\n",
    "    pca = PCA(n_components=i, whiten=True, random_state=0).fit(x_train)\n",
    "    x_train_pca = pca.transform(x_train)\n",
    "    x_valid_pca = pca.transform(x_valid)\n",
    "    knn = KNeighborsClassifier(n_neighbors=k_star,p=1)\n",
    "    knn.fit(x_train_pca, y_train)\n",
    "    # record generalization accuracy\n",
    "    test_accuracy.append(knn.score(x_valid_pca, y_valid.reshape(-1,1)))\n",
    "\n",
    "plt.plot(PC_number, test_accuracy, label=\"valid accuracy\")\n",
    "plt.ylabel(\"Accuracy\")\n",
    "plt.xlabel(\"n° PC\")\n",
    "plt.legend()  "
   ]
  },
  {
   "cell_type": "code",
   "execution_count": null,
   "metadata": {},
   "outputs": [],
   "source": [
    "#save the figure\n",
    "plt.savefig('Accuracy VS number_PCs.png')"
   ]
  },
  {
   "cell_type": "code",
   "execution_count": 32,
   "metadata": {},
   "outputs": [
    {
     "data": {
      "text/plain": [
       "<matplotlib.image.AxesImage at 0x2a892c1b5f8>"
      ]
     },
     "execution_count": 32,
     "metadata": {},
     "output_type": "execute_result"
    },
    {
     "data": {
      "image/png": "[encoded data removed]",
      "text/plain": [
       "<Figure size 432x288 with 1 Axes>"
      ]
     },
     "metadata": {
      "needs_background": "light"
     },
     "output_type": "display_data"
    }
   ],
   "source": [
    "#load the figure\n",
    "import matplotlib.image as mpimg\n",
    "img = mpimg.imread('Accuracy VS number_PCs.png')\n",
    "plt.axis('off')\n",
    "plt.imshow(img,interpolation='spline36')"
   ]
  },
  {
   "cell_type": "markdown",
   "metadata": {},
   "source": [
    "Observing the plot, the accuracy growth becomes flat approx. after the first 20 PCs. \n",
    "So to have an easier model, with less features, we decide to use 20 PCs."
   ]
  },
  {
   "cell_type": "code",
   "execution_count": 33,
   "metadata": {},
   "outputs": [],
   "source": [
    "PCs_star=20"
   ]
  },
  {
   "cell_type": "markdown",
   "metadata": {},
   "source": [
    "We compute the first 20 PCs for train set and validation set."
   ]
  },
  {
   "cell_type": "code",
   "execution_count": 39,
   "metadata": {},
   "outputs": [],
   "source": [
    "pca = PCA(n_components=20, whiten=True, random_state=0).fit(x_train_norm)\n",
    "x_train_pca = pca.transform(x_train_norm)\n",
    "x_valid_pca = pca.transform(x_valid_norm)\n",
    "x_test_pca = pca.transform(x_test_norm)"
   ]
  },
  {
   "cell_type": "code",
   "execution_count": null,
   "metadata": {},
   "outputs": [],
   "source": [
    "# save the model to disk\n",
    "filename = 'pca.sav'\n",
    "joblib.dump(pca, filename)"
   ]
  },
  {
   "cell_type": "code",
   "execution_count": 34,
   "metadata": {},
   "outputs": [],
   "source": [
    "# to load the model from disk\n",
    "filename = 'pca.sav'\n",
    "pca = joblib.load(filename)"
   ]
  },
  {
   "cell_type": "markdown",
   "metadata": {},
   "source": [
    "We train the model with the optimal hyperparameter $k^*=5$ on the full training set."
   ]
  },
  {
   "cell_type": "code",
   "execution_count": null,
   "metadata": {},
   "outputs": [],
   "source": [
    "knn = KNeighborsClassifier(n_neighbors=5,p=1)\n",
    "knn.fit(x_train_pca, y_train)"
   ]
  },
  {
   "cell_type": "code",
   "execution_count": null,
   "metadata": {},
   "outputs": [],
   "source": [
    "# save the model to disk\n",
    "filename = '5nn.sav'\n",
    "joblib.dump(knn, filename)"
   ]
  },
  {
   "cell_type": "code",
   "execution_count": 35,
   "metadata": {},
   "outputs": [],
   "source": [
    "# to load the model from disk\n",
    "filename = '5nn.sav'\n",
    "knn = joblib.load(filename)"
   ]
  },
  {
   "cell_type": "code",
   "execution_count": null,
   "metadata": {},
   "outputs": [],
   "source": [
    "#plot the PCs\n",
    "print(\"pca.components_.shape: {}\".format(pca.components_.shape))\n",
    "fix, axes = plt.subplots(4, 5, figsize=(15, 12),subplot_kw={'xticks': (), 'yticks': ()})\n",
    "for i, (component, ax) in enumerate(zip(pca.components_, axes.ravel())):\n",
    "    ax.imshow(component.reshape((28,28)),cmap='viridis')\n",
    "    ax.set_title(\"{}. component\".format((i + 1)))\n",
    "plt.savefig('first 20 PCs.png')"
   ]
  },
  {
   "cell_type": "code",
   "execution_count": 41,
   "metadata": {},
   "outputs": [
    {
     "data": {
      "text/plain": [
       "<matplotlib.image.AxesImage at 0x2a890e7ac50>"
      ]
     },
     "execution_count": 41,
     "metadata": {},
     "output_type": "execute_result"
    },
    {
     "data": {
      "image/png": "[encoded data removed]",
      "text/plain": [
       "<Figure size 432x288 with 1 Axes>"
      ]
     },
     "metadata": {
      "needs_background": "light"
     },
     "output_type": "display_data"
    }
   ],
   "source": [
    "#load the figure\n",
    "img = mpimg.imread('first 20 PCs.png')\n",
    "plt.axis('off')\n",
    "plt.imshow(img,interpolation='spline36')"
   ]
  },
  {
   "cell_type": "markdown",
   "metadata": {},
   "source": [
    "### Model evaluation"
   ]
  },
  {
   "cell_type": "markdown",
   "metadata": {},
   "source": [
    "The perfomance in the validation set is:"
   ]
  },
  {
   "cell_type": "code",
   "execution_count": 43,
   "metadata": {},
   "outputs": [
    {
     "data": {
      "text/plain": [
       "0.8482"
      ]
     },
     "execution_count": 43,
     "metadata": {},
     "output_type": "execute_result"
    }
   ],
   "source": [
    "knn.score(x_valid_pca, y_valid.reshape(-1,1))"
   ]
  },
  {
   "cell_type": "code",
   "execution_count": 46,
   "metadata": {},
   "outputs": [
    {
     "data": {
      "image/png": "[encoded data removed]",
      "text/plain": [
       "<Figure size 1440x1440 with 2 Axes>"
      ]
     },
     "metadata": {
      "needs_background": "light"
     },
     "output_type": "display_data"
    }
   ],
   "source": [
    "# confusion matrix\n",
    "fig, ax = plt.subplots(figsize=(20, 20))\n",
    "disp = metrics.plot_confusion_matrix(knn, x_valid_pca, y_valid,\n",
    "                                     normalize='true', \n",
    "                                     include_values=True,\n",
    "                                     display_labels=y_labels,\n",
    "                                     ax=ax)"
   ]
  },
  {
   "cell_type": "markdown",
   "metadata": {},
   "source": [
    "### Prediction on test set\n",
    "\n",
    "Based on the model we have trained, these are our prediction for the unknown labels in the test set: "
   ]
  },
  {
   "cell_type": "code",
   "execution_count": null,
   "metadata": {},
   "outputs": [],
   "source": [
    "y_pred_knn=knn.predict(x_test_pca)"
   ]
  },
  {
   "cell_type": "code",
   "execution_count": null,
   "metadata": {},
   "outputs": [],
   "source": [
    "# save that on a .csv file for the submission\n",
    "predictions_knn_file = y_pred_knn.to_csv('y_predictions_knn.csv', sep=',',index=False)"
   ]
  },
  {
   "cell_type": "markdown",
   "metadata": {},
   "source": [
    "# Model - Random Forest"
   ]
  },
  {
   "cell_type": "markdown",
   "metadata": {},
   "source": [
    "### Pre-processing"
   ]
  },
  {
   "cell_type": "code",
   "execution_count": null,
   "metadata": {},
   "outputs": [],
   "source": [
    "x_train_norm=x_train/255\n",
    "x_valid_norm=x_valid/255\n",
    "x_test_norm=x_test/255\n",
    "\n",
    "pca = PCA(n_components=20, whiten=True, random_state=0).fit(x_train_norm)\n",
    "x_train_pca = pca.transform(x_train_norm)\n",
    "x_valid_pca = pca.transform(x_valid_norm)\n",
    "x_test_pca = pca.transform(x_test_norm)"
   ]
  },
  {
   "cell_type": "markdown",
   "metadata": {},
   "source": [
    "### Model estimation\n",
    "Using PCA, we reduced the features' dimension from 784 to 20. Now, we want to apply\n",
    "a 'Decision Tree' to classify the items using only the 20 PCs extracted before.\n",
    "\n",
    "Choosing the parameter 'max_depth' high enough, it's possible to classify \n",
    "perfectly each class in the training set, reaching an accuracy of 100%. But\n",
    "then the performance in the test set is going to be much smaller, due to overfitting."
   ]
  },
  {
   "cell_type": "code",
   "execution_count": null,
   "metadata": {},
   "outputs": [],
   "source": [
    "from sklearn.tree import DecisionTreeClassifier\n",
    "from sklearn.ensemble import RandomForestClassifier"
   ]
  },
  {
   "cell_type": "code",
   "execution_count": null,
   "metadata": {},
   "outputs": [],
   "source": [
    "tree = DecisionTreeClassifier(max_depth=15,random_state=0)\n",
    "tree.fit(x_train_pca, y_train)\n",
    "print(\"Accuracy on training set: {:.3f}\".format(tree.score(x_train_pca, y_train)))\n",
    "print(\"Accuracy on validation set: {:.3f}\".format(tree.score(x_valid_pca, y_valid)))"
   ]
  },
  {
   "cell_type": "markdown",
   "metadata": {},
   "source": [
    "A random forest is essentially a collection of decision trees, where each tree is slightly different from the others. The idea behind random forests is that each tree might do a relatively good job of predicting, but will likely overfit on part of the data. If we build many trees, all of which work well and overfit in different ways, we can reduce the amount\n",
    "of overfitting by averaging their results. \n",
    "\n",
    "**Important Note**: we are aware that, by using this kind of model over the features extracted via PCA, we are losing a very important advantage that Random Forest gives, which is the **interpretability** of the results (the principal components, are not features that we can interpret in a meaningful and intuitive way). Anyhow, we wanted to see how this kind of decision tree based model could perform on such a setting."
   ]
  },
  {
   "cell_type": "markdown",
   "metadata": {},
   "source": [
    "- 'n_estimators': number of trees to build(larger is always better. Averaging more trees will yield a more robust ensemble by reducing overfitting.)\n",
    "- 'max_features': number of randomly selected features among which the algo looks for the best one. Tt’s a good rule of thumb to use the default values: max_features=$\\sqrt{n_{features}}$"
   ]
  },
  {
   "cell_type": "code",
   "execution_count": null,
   "metadata": {},
   "outputs": [],
   "source": [
    "forest = RandomForestClassifier(n_estimators=100,\n",
    "                                max_depth=15,\n",
    "                                max_features=5, \n",
    "                                random_state=0,\n",
    "                                n_jobs=-1)\n",
    "forest.fit(x_train_pca, y_train)\n",
    "print(\"Accuracy on training set: {:.3f}\".format(forest.score(x_train_pca, y_train)))\n",
    "print(\"Accuracy on valid set: {:.3f}\".format(forest.score(x_valid_pca, y_valid)))"
   ]
  },
  {
   "cell_type": "markdown",
   "metadata": {},
   "source": [
    "We use the grid search technique to find the best values of hyperparameters:\n",
    "- 'max_depth'\n",
    "- 'max_features'"
   ]
  },
  {
   "cell_type": "code",
   "execution_count": null,
   "metadata": {},
   "outputs": [],
   "source": [
    "# Define the grid for the grid search\n",
    "param_grid = {'max_depth': list(range(1,21)),\n",
    "              'max_features': list(range(1,21))}\n",
    "# Cross Validation strategy\n",
    "cv=StratifiedKFold(n_splits=5,shuffle=True,random_state=0)"
   ]
  },
  {
   "cell_type": "code",
   "execution_count": null,
   "metadata": {},
   "outputs": [],
   "source": [
    "grid_search = GridSearchCV(RandomForestClassifier(n_estimators=100,\n",
    "                                                  random_state=0,\n",
    "                                                  n_jobs=-1),\n",
    "                           param_grid, cv=cv,n_jobs=-1)\n",
    "grid_search.fit(x_train_pca, y_train)"
   ]
  },
  {
   "cell_type": "code",
   "execution_count": null,
   "metadata": {},
   "outputs": [],
   "source": [
    "# save the model to disk\n",
    "filename = 'grid_search_forest.sav'\n",
    "joblib.dump(grid_search, filename)"
   ]
  },
  {
   "cell_type": "code",
   "execution_count": null,
   "metadata": {},
   "outputs": [],
   "source": [
    "# to load the model from disk\n",
    "filename = 'grid_search_forest.sav'\n",
    "grid_search = joblib.load(filename)"
   ]
  },
  {
   "cell_type": "code",
   "execution_count": null,
   "metadata": {},
   "outputs": [],
   "source": [
    "# convert the grid_search model in a dataframe to see easely the results\n",
    "results_grid_search_randForest = pd.DataFrame(grid_search.cv_results_)\n",
    "results_grid_search_randForest=results[['params','mean_test_score','rank_test_score']]"
   ]
  },
  {
   "cell_type": "code",
   "execution_count": null,
   "metadata": {},
   "outputs": [],
   "source": [
    "print(\"Best parameters: {}\".format(grid_search.best_params_))"
   ]
  },
  {
   "cell_type": "markdown",
   "metadata": {},
   "source": [
    "There is a problem: the optimal hyperparamer 'max_depth' $=20$ is a corner solution.\n",
    "To be sure that does not exist a better model with higher depth, we expand\n",
    "the grid search to values of 'max_depth' $\\ge20$."
   ]
  },
  {
   "cell_type": "code",
   "execution_count": null,
   "metadata": {},
   "outputs": [],
   "source": [
    "param_grid = {'max_depth': list(range(20,30)),\n",
    "              'max_features': list(range(5,11))}\n",
    "cv=StratifiedKFold(n_splits=5,shuffle=True,random_state=0)\n",
    "grid_search = GridSearchCV(RandomForestClassifier(n_estimators=100,\n",
    "                                                  random_state=0,\n",
    "                                                  n_jobs=-1),\n",
    "                           param_grid, cv=cv,n_jobs=-1)\n",
    "grid_search.fit(x_train_pca, y_train)"
   ]
  },
  {
   "cell_type": "code",
   "execution_count": null,
   "metadata": {},
   "outputs": [],
   "source": [
    "# save the model to disk\n",
    "filename = 'grid_search_restricted_forest.sav'\n",
    "joblib.dump(grid_search, filename)"
   ]
  },
  {
   "cell_type": "code",
   "execution_count": 47,
   "metadata": {},
   "outputs": [],
   "source": [
    "# to load the model from disk\n",
    "filename = 'grid_search_restricted_forest.sav'\n",
    "grid_search = joblib.load(filename)"
   ]
  },
  {
   "cell_type": "code",
   "execution_count": 50,
   "metadata": {},
   "outputs": [
    {
     "data": {
      "text/html": [
       "<div>\n",
       "<style scoped>\n",
       "    .dataframe tbody tr th:only-of-type {\n",
       "        vertical-align: middle;\n",
       "    }\n",
       "\n",
       "    .dataframe tbody tr th {\n",
       "        vertical-align: top;\n",
       "    }\n",
       "\n",
       "    .dataframe thead th {\n",
       "        text-align: right;\n",
       "    }\n",
       "</style>\n",
       "<table border=\"1\" class=\"dataframe\">\n",
       "  <thead>\n",
       "    <tr style=\"text-align: right;\">\n",
       "      <th></th>\n",
       "      <th>params</th>\n",
       "      <th>mean_test_score</th>\n",
       "      <th>rank_test_score</th>\n",
       "    </tr>\n",
       "  </thead>\n",
       "  <tbody>\n",
       "    <tr>\n",
       "      <th>0</th>\n",
       "      <td>{'max_depth': 20, 'max_features': 5}</td>\n",
       "      <td>0.85376</td>\n",
       "      <td>52</td>\n",
       "    </tr>\n",
       "    <tr>\n",
       "      <th>1</th>\n",
       "      <td>{'max_depth': 20, 'max_features': 6}</td>\n",
       "      <td>0.85472</td>\n",
       "      <td>29</td>\n",
       "    </tr>\n",
       "    <tr>\n",
       "      <th>2</th>\n",
       "      <td>{'max_depth': 20, 'max_features': 7}</td>\n",
       "      <td>0.85394</td>\n",
       "      <td>51</td>\n",
       "    </tr>\n",
       "    <tr>\n",
       "      <th>3</th>\n",
       "      <td>{'max_depth': 20, 'max_features': 8}</td>\n",
       "      <td>0.85316</td>\n",
       "      <td>58</td>\n",
       "    </tr>\n",
       "    <tr>\n",
       "      <th>4</th>\n",
       "      <td>{'max_depth': 20, 'max_features': 9}</td>\n",
       "      <td>0.85254</td>\n",
       "      <td>60</td>\n",
       "    </tr>\n",
       "  </tbody>\n",
       "</table>\n",
       "</div>"
      ],
      "text/plain": [
       "                                 params  mean_test_score  rank_test_score\n",
       "0  {'max_depth': 20, 'max_features': 5}          0.85376               52\n",
       "1  {'max_depth': 20, 'max_features': 6}          0.85472               29\n",
       "2  {'max_depth': 20, 'max_features': 7}          0.85394               51\n",
       "3  {'max_depth': 20, 'max_features': 8}          0.85316               58\n",
       "4  {'max_depth': 20, 'max_features': 9}          0.85254               60"
      ]
     },
     "execution_count": 50,
     "metadata": {},
     "output_type": "execute_result"
    }
   ],
   "source": [
    "# convert the grid_search model in a dataframe to see easely the results\n",
    "results_grid_search_randForest = pd.DataFrame(grid_search.cv_results_)\n",
    "results_grid_search_randForest=results_grid_search_randForest[['params','mean_test_score','rank_test_score']]\n",
    "results_grid_search_randForest.head()"
   ]
  },
  {
   "cell_type": "code",
   "execution_count": 51,
   "metadata": {},
   "outputs": [
    {
     "name": "stdout",
     "output_type": "stream",
     "text": [
      "Best parameters: {'max_depth': 24, 'max_features': 7}\n"
     ]
    }
   ],
   "source": [
    "print(\"Best parameters: {}\".format(grid_search.best_params_))"
   ]
  },
  {
   "cell_type": "markdown",
   "metadata": {},
   "source": [
    "We train the model with optimal hyperparameters:"
   ]
  },
  {
   "cell_type": "code",
   "execution_count": 54,
   "metadata": {},
   "outputs": [
    {
     "data": {
      "text/plain": [
       "RandomForestClassifier(bootstrap=True, ccp_alpha=0.0, class_weight=None,\n",
       "                       criterion='gini', max_depth=24, max_features=7,\n",
       "                       max_leaf_nodes=None, max_samples=None,\n",
       "                       min_impurity_decrease=0.0, min_impurity_split=None,\n",
       "                       min_samples_leaf=1, min_samples_split=2,\n",
       "                       min_weight_fraction_leaf=0.0, n_estimators=100,\n",
       "                       n_jobs=-1, oob_score=False, random_state=0, verbose=0,\n",
       "                       warm_start=False)"
      ]
     },
     "execution_count": 54,
     "metadata": {},
     "output_type": "execute_result"
    }
   ],
   "source": [
    "forest = RandomForestClassifier(n_estimators=100,\n",
    "                                max_depth=24,\n",
    "                                max_features=7, \n",
    "                                random_state=0,\n",
    "                                n_jobs=-1)\n",
    "forest.fit(x_train_pca, y_train)"
   ]
  },
  {
   "cell_type": "markdown",
   "metadata": {},
   "source": [
    "### Model evaluation"
   ]
  },
  {
   "cell_type": "code",
   "execution_count": 55,
   "metadata": {},
   "outputs": [
    {
     "name": "stdout",
     "output_type": "stream",
     "text": [
      "Validation set score: 0.851\n"
     ]
    }
   ],
   "source": [
    "print(\"Validation set score: {:.3f}\".format(grid_search.score(x_valid_pca, y_valid)))"
   ]
  },
  {
   "cell_type": "code",
   "execution_count": 56,
   "metadata": {},
   "outputs": [
    {
     "data": {
      "image/png": "[encoded data removed]",
      "text/plain": [
       "<Figure size 1440x1440 with 2 Axes>"
      ]
     },
     "metadata": {
      "needs_background": "light"
     },
     "output_type": "display_data"
    }
   ],
   "source": [
    "# confusion matrix\n",
    "fig, ax = plt.subplots(figsize=(20, 20))\n",
    "disp = metrics.plot_confusion_matrix(forest, x_valid_pca, y_valid,\n",
    "                                     normalize='true', \n",
    "                                     include_values=True,\n",
    "                                     display_labels=y_labels,\n",
    "                                     ax=ax)"
   ]
  },
  {
   "cell_type": "markdown",
   "metadata": {},
   "source": [
    "### Prediction on test set\n",
    "\n",
    "Based on the model we have trained, these are our prediction for the unknown labels in the test set: "
   ]
  },
  {
   "cell_type": "code",
   "execution_count": null,
   "metadata": {},
   "outputs": [],
   "source": [
    "y_pred_forest=forest.predict(x_test_pca)"
   ]
  },
  {
   "cell_type": "code",
   "execution_count": null,
   "metadata": {},
   "outputs": [],
   "source": [
    "# save that on a .csv file for the submission\n",
    "predictions_forest_file = y_pred_logreg.to_csv('y_predictions_forest.csv', sep=',',index=False)"
   ]
  },
  {
   "cell_type": "markdown",
   "metadata": {},
   "source": [
    "# Model - Neural Network"
   ]
  },
  {
   "cell_type": "markdown",
   "metadata": {},
   "source": [
    "### Pre-processing"
   ]
  },
  {
   "cell_type": "code",
   "execution_count": null,
   "metadata": {},
   "outputs": [],
   "source": []
  },
  {
   "cell_type": "markdown",
   "metadata": {},
   "source": [
    "### Model estimation"
   ]
  },
  {
   "cell_type": "code",
   "execution_count": null,
   "metadata": {},
   "outputs": [],
   "source": []
  },
  {
   "cell_type": "markdown",
   "metadata": {},
   "source": [
    "### Model evaluation"
   ]
  },
  {
   "cell_type": "code",
   "execution_count": null,
   "metadata": {},
   "outputs": [],
   "source": []
  },
  {
   "cell_type": "markdown",
   "metadata": {},
   "source": [
    "### Prediction on test set\n",
    "\n",
    "Based on the model we have trained, these are our prediction for the unknown label in the test set: "
   ]
  },
  {
   "cell_type": "code",
   "execution_count": null,
   "metadata": {},
   "outputs": [],
   "source": [
    "y_pred_nn=knn.predict(x_test)"
   ]
  },
  {
   "cell_type": "markdown",
   "metadata": {},
   "source": [
    "# Model - Support Vector Machine"
   ]
  },
  {
   "cell_type": "code",
   "execution_count": null,
   "metadata": {},
   "outputs": [],
   "source": [
    "from sklearn.svm import SVC"
   ]
  },
  {
   "cell_type": "markdown",
   "metadata": {},
   "source": [
    "### Pre-processing"
   ]
  },
  {
   "cell_type": "code",
   "execution_count": null,
   "metadata": {},
   "outputs": [],
   "source": [
    "#SET SIZE = size of training set to use. Use 50000 to use full TS\n",
    "size = 10000\n",
    "\n",
    "#For better numerical stability is advisible to divide by 255\n",
    "x_train_sc=x_train[0:size]/255\n",
    "x_valid_sc=x_valid[0:size]/255\n",
    "x_test_sc =x_test[0:size]/255\n",
    "\n",
    "y_train_sc=y_train[0:size]\n",
    "y_valid_sc=y_valid[0:size]"
   ]
  },
  {
   "cell_type": "markdown",
   "metadata": {},
   "source": [
    "### Model estimation"
   ]
  },
  {
   "cell_type": "code",
   "execution_count": 8,
   "metadata": {},
   "outputs": [
    {
     "name": "stdout",
     "output_type": "stream",
     "text": [
      "[{'C': [1, 2, 4, 8], 'gamma': [0.125, 0.0625, 0.03125], 'kernel': ['rbf']}]\n"
     ]
    }
   ],
   "source": [
    "# Define the grid for the grid search\n",
    "Cs = np.power(2, np.asarray(list(range(4)))).tolist() # C = regularization parameter\n",
    "gammas = np.power(1/2, np.asarray(list(range(6)))).tolist()[3:] # gamma: parameter for the RBF kernel\n",
    "\n",
    "param_grid = [\n",
    "    {'C': Cs, 'gamma': gammas, 'kernel': ['rbf']},\n",
    "]\n",
    "\n",
    "# Cross Validation strategy\n",
    "cv=StratifiedKFold(n_splits=5,shuffle=True,random_state=0)\n",
    "print(param_grid)"
   ]
  },
  {
   "cell_type": "code",
   "execution_count": 15,
   "metadata": {},
   "outputs": [
    {
     "name": "stdout",
     "output_type": "stream",
     "text": [
      "{'C': 4, 'gamma': 0.03125, 'kernel': 'rbf'}\n",
      "Cross Validation Accuracy: 0.872500\n"
     ]
    }
   ],
   "source": [
    "##################################################\n",
    "# Implement you model here\n",
    "##################################################\n",
    "\n",
    "svc = SVC()\n",
    "# grid search con 5 fold cross validation\n",
    "clf = GridSearchCV(svc, param_grid, cv=5, n_jobs=-1)\n",
    "clf.fit(x_train_sc, y_train)\n",
    "\n",
    "print(clf.best_params_)\n",
    "print(\"Cross Validation Accuracy: %f\" % clf.best_score_)"
   ]
  },
  {
   "cell_type": "code",
   "execution_count": 17,
   "metadata": {},
   "outputs": [
    {
     "data": {
      "text/plain": [
       "['grid_search_svm_downsampled.sav']"
      ]
     },
     "execution_count": 17,
     "metadata": {},
     "output_type": "execute_result"
    }
   ],
   "source": [
    "# save the model to disk\n",
    "filename = 'grid_search_svm_downsampled.sav'\n",
    "joblib.dump(clf, filename)"
   ]
  },
  {
   "cell_type": "code",
   "execution_count": 18,
   "metadata": {},
   "outputs": [
    {
     "data": {
      "text/plain": [
       "{'C': 4, 'gamma': 0.03125, 'kernel': 'rbf'}"
      ]
     },
     "execution_count": 18,
     "metadata": {},
     "output_type": "execute_result"
    }
   ],
   "source": [
    "clf.best_params_"
   ]
  },
  {
   "cell_type": "code",
   "execution_count": 19,
   "metadata": {},
   "outputs": [
    {
     "data": {
      "text/plain": [
       "0.8781"
      ]
     },
     "execution_count": 19,
     "metadata": {},
     "output_type": "execute_result"
    }
   ],
   "source": [
    "clf.score(x_valid_sc, y_valid)"
   ]
  },
  {
   "cell_type": "code",
   "execution_count": 23,
   "metadata": {},
   "outputs": [
    {
     "data": {
      "text/html": [
       "<div>\n",
       "<style scoped>\n",
       "    .dataframe tbody tr th:only-of-type {\n",
       "        vertical-align: middle;\n",
       "    }\n",
       "\n",
       "    .dataframe tbody tr th {\n",
       "        vertical-align: top;\n",
       "    }\n",
       "\n",
       "    .dataframe thead th {\n",
       "        text-align: right;\n",
       "    }\n",
       "</style>\n",
       "<table border=\"1\" class=\"dataframe\">\n",
       "  <thead>\n",
       "    <tr style=\"text-align: right;\">\n",
       "      <th></th>\n",
       "      <th>mean_fit_time</th>\n",
       "      <th>std_fit_time</th>\n",
       "      <th>mean_score_time</th>\n",
       "      <th>std_score_time</th>\n",
       "      <th>param_C</th>\n",
       "      <th>param_gamma</th>\n",
       "      <th>param_kernel</th>\n",
       "      <th>params</th>\n",
       "      <th>split0_test_score</th>\n",
       "      <th>split1_test_score</th>\n",
       "      <th>split2_test_score</th>\n",
       "      <th>split3_test_score</th>\n",
       "      <th>split4_test_score</th>\n",
       "      <th>mean_test_score</th>\n",
       "      <th>std_test_score</th>\n",
       "      <th>rank_test_score</th>\n",
       "    </tr>\n",
       "  </thead>\n",
       "  <tbody>\n",
       "    <tr>\n",
       "      <td>0</td>\n",
       "      <td>237.260946</td>\n",
       "      <td>1.239280</td>\n",
       "      <td>27.493530</td>\n",
       "      <td>0.134380</td>\n",
       "      <td>1</td>\n",
       "      <td>0.125</td>\n",
       "      <td>rbf</td>\n",
       "      <td>{'C': 1, 'gamma': 0.125, 'kernel': 'rbf'}</td>\n",
       "      <td>0.748503</td>\n",
       "      <td>0.735265</td>\n",
       "      <td>0.741871</td>\n",
       "      <td>0.748374</td>\n",
       "      <td>0.766032</td>\n",
       "      <td>0.7480</td>\n",
       "      <td>0.010245</td>\n",
       "      <td>12</td>\n",
       "    </tr>\n",
       "    <tr>\n",
       "      <td>1</td>\n",
       "      <td>128.451676</td>\n",
       "      <td>1.635109</td>\n",
       "      <td>21.844860</td>\n",
       "      <td>0.238880</td>\n",
       "      <td>1</td>\n",
       "      <td>0.0625</td>\n",
       "      <td>rbf</td>\n",
       "      <td>{'C': 1, 'gamma': 0.0625, 'kernel': 'rbf'}</td>\n",
       "      <td>0.856287</td>\n",
       "      <td>0.838661</td>\n",
       "      <td>0.861431</td>\n",
       "      <td>0.847924</td>\n",
       "      <td>0.864729</td>\n",
       "      <td>0.8538</td>\n",
       "      <td>0.009461</td>\n",
       "      <td>8</td>\n",
       "    </tr>\n",
       "    <tr>\n",
       "      <td>2</td>\n",
       "      <td>66.187876</td>\n",
       "      <td>0.774719</td>\n",
       "      <td>18.151979</td>\n",
       "      <td>0.261955</td>\n",
       "      <td>1</td>\n",
       "      <td>0.03125</td>\n",
       "      <td>rbf</td>\n",
       "      <td>{'C': 1, 'gamma': 0.03125, 'kernel': 'rbf'}</td>\n",
       "      <td>0.866267</td>\n",
       "      <td>0.851648</td>\n",
       "      <td>0.874937</td>\n",
       "      <td>0.863432</td>\n",
       "      <td>0.877255</td>\n",
       "      <td>0.8667</td>\n",
       "      <td>0.009128</td>\n",
       "      <td>4</td>\n",
       "    </tr>\n",
       "    <tr>\n",
       "      <td>3</td>\n",
       "      <td>240.696215</td>\n",
       "      <td>0.314167</td>\n",
       "      <td>27.755970</td>\n",
       "      <td>0.341017</td>\n",
       "      <td>2</td>\n",
       "      <td>0.125</td>\n",
       "      <td>rbf</td>\n",
       "      <td>{'C': 2, 'gamma': 0.125, 'kernel': 'rbf'}</td>\n",
       "      <td>0.761477</td>\n",
       "      <td>0.745255</td>\n",
       "      <td>0.757879</td>\n",
       "      <td>0.764882</td>\n",
       "      <td>0.779559</td>\n",
       "      <td>0.7618</td>\n",
       "      <td>0.011079</td>\n",
       "      <td>9</td>\n",
       "    </tr>\n",
       "    <tr>\n",
       "      <td>4</td>\n",
       "      <td>138.407228</td>\n",
       "      <td>0.680498</td>\n",
       "      <td>22.266635</td>\n",
       "      <td>0.117981</td>\n",
       "      <td>2</td>\n",
       "      <td>0.0625</td>\n",
       "      <td>rbf</td>\n",
       "      <td>{'C': 2, 'gamma': 0.0625, 'kernel': 'rbf'}</td>\n",
       "      <td>0.865269</td>\n",
       "      <td>0.841159</td>\n",
       "      <td>0.868434</td>\n",
       "      <td>0.855928</td>\n",
       "      <td>0.870741</td>\n",
       "      <td>0.8603</td>\n",
       "      <td>0.010822</td>\n",
       "      <td>5</td>\n",
       "    </tr>\n",
       "  </tbody>\n",
       "</table>\n",
       "</div>"
      ],
      "text/plain": [
       "   mean_fit_time  std_fit_time  mean_score_time  std_score_time param_C  \\\n",
       "0     237.260946      1.239280        27.493530        0.134380       1   \n",
       "1     128.451676      1.635109        21.844860        0.238880       1   \n",
       "2      66.187876      0.774719        18.151979        0.261955       1   \n",
       "3     240.696215      0.314167        27.755970        0.341017       2   \n",
       "4     138.407228      0.680498        22.266635        0.117981       2   \n",
       "\n",
       "  param_gamma param_kernel                                       params  \\\n",
       "0       0.125          rbf    {'C': 1, 'gamma': 0.125, 'kernel': 'rbf'}   \n",
       "1      0.0625          rbf   {'C': 1, 'gamma': 0.0625, 'kernel': 'rbf'}   \n",
       "2     0.03125          rbf  {'C': 1, 'gamma': 0.03125, 'kernel': 'rbf'}   \n",
       "3       0.125          rbf    {'C': 2, 'gamma': 0.125, 'kernel': 'rbf'}   \n",
       "4      0.0625          rbf   {'C': 2, 'gamma': 0.0625, 'kernel': 'rbf'}   \n",
       "\n",
       "   split0_test_score  split1_test_score  split2_test_score  split3_test_score  \\\n",
       "0           0.748503           0.735265           0.741871           0.748374   \n",
       "1           0.856287           0.838661           0.861431           0.847924   \n",
       "2           0.866267           0.851648           0.874937           0.863432   \n",
       "3           0.761477           0.745255           0.757879           0.764882   \n",
       "4           0.865269           0.841159           0.868434           0.855928   \n",
       "\n",
       "   split4_test_score  mean_test_score  std_test_score  rank_test_score  \n",
       "0           0.766032           0.7480        0.010245               12  \n",
       "1           0.864729           0.8538        0.009461                8  \n",
       "2           0.877255           0.8667        0.009128                4  \n",
       "3           0.779559           0.7618        0.011079                9  \n",
       "4           0.870741           0.8603        0.010822                5  "
      ]
     },
     "execution_count": 23,
     "metadata": {},
     "output_type": "execute_result"
    }
   ],
   "source": [
    "results_svm_gs = pd.DataFrame(clf.cv_results_)\n",
    "results_svm_gs.head()"
   ]
  },
  {
   "cell_type": "markdown",
   "metadata": {},
   "source": [
    "## Train a single model with the best params with all the TS"
   ]
  },
  {
   "cell_type": "code",
   "execution_count": 42,
   "metadata": {},
   "outputs": [],
   "source": [
    "#load already trained model if available"
   ]
  },
  {
   "cell_type": "code",
   "execution_count": 37,
   "metadata": {},
   "outputs": [
    {
     "data": {
      "text/plain": [
       "SVC(C=4, cache_size=200, class_weight=None, coef0=0.0,\n",
       "    decision_function_shape='ovr', degree=3, gamma=0.03125, kernel='rbf',\n",
       "    max_iter=-1, probability=False, random_state=None, shrinking=True,\n",
       "    tol=0.001, verbose=False)"
      ]
     },
     "execution_count": 37,
     "metadata": {},
     "output_type": "execute_result"
    }
   ],
   "source": [
    "svm_final = SVC(C=4, gamma=0.03125, kernel='rbf')\n",
    "svm_final.fit(x_train_sc, y_train)"
   ]
  },
  {
   "cell_type": "markdown",
   "metadata": {},
   "source": [
    "### Model evaluation"
   ]
  },
  {
   "cell_type": "code",
   "execution_count": 38,
   "metadata": {},
   "outputs": [
    {
     "data": {
      "text/plain": [
       "0.9039"
      ]
     },
     "execution_count": 38,
     "metadata": {},
     "output_type": "execute_result"
    }
   ],
   "source": [
    "svm_final.score(x_valid_sc, y_valid)"
   ]
  },
  {
   "cell_type": "code",
   "execution_count": 39,
   "metadata": {},
   "outputs": [
    {
     "data": {
      "text/plain": [
       "['svm_model_fullTS.sav']"
      ]
     },
     "execution_count": 39,
     "metadata": {},
     "output_type": "execute_result"
    }
   ],
   "source": [
    "# save the model to disk\n",
    "filename = 'svm_model_fullTS.sav'\n",
    "joblib.dump(svm_final, filename)"
   ]
  },
  {
   "cell_type": "markdown",
   "metadata": {},
   "source": [
    "### Prediction on test set\n",
    "\n",
    "Based on the model we have trained, these are our prediction for the unknown label in the test set: "
   ]
  },
  {
   "cell_type": "code",
   "execution_count": null,
   "metadata": {},
   "outputs": [],
   "source": [
    "y_pred_svm=svm_final.predict(x_test_sc)"
   ]
  },
  {
   "cell_type": "code",
   "execution_count": null,
   "metadata": {},
   "outputs": [],
   "source": [
    "# save that on a .csv file for the submission\n",
    "predictions_svm_file = y_pred_svm.to_csv('y_predictions_svm.csv', sep=',',index=False)"
   ]
  }
 ],
 "metadata": {
  "kernelspec": {
   "display_name": "Python 3",
   "language": "python",
   "name": "python3"
  },
  "language_info": {
   "codemirror_mode": {
    "name": "ipython",
    "version": 3
   },
   "file_extension": ".py",
   "mimetype": "text/x-python",
   "name": "python",
   "nbconvert_exporter": "python",
   "pygments_lexer": "ipython3",
   "version": "3.7.6"
  }
 },
 "nbformat": 4,
 "nbformat_minor": 4
}
