{
 "cells": [
  {
   "cell_type": "markdown",
   "metadata": {},
   "source": [
    "# Image Classification Challenge"
   ]
  },
  {
   "cell_type": "code",
   "execution_count": 40,
   "metadata": {
    "_cell_guid": "b1076dfc-b9ad-4769-8c92-a6c4dae69d19",
    "_uuid": "8f2839f25d086af736a60e9eeb907d3b93b6e0e5"
   },
   "outputs": [],
   "source": [
    "##################################################\n",
    "# Imports\n",
    "##################################################\n",
    "\n",
    "import numpy as np\n",
    "import cv2\n",
    "import os\n",
    "import pandas as pd\n",
    "import matplotlib.pyplot as plt\n",
    "import joblib\n",
    "from sklearn import metrics\n",
    "\n",
    "##################################################\n",
    "# Params\n",
    "##################################################\n",
    "\n",
    "DATA_BASE_FOLDER = 'data'"
   ]
  },
  {
   "cell_type": "markdown",
   "metadata": {},
   "source": [
    "# Dataset\n",
    "\n",
    "The dataset contains 50k train + 10k validation images of 10 different categories ('T-shirt/top', 'Trouser', 'Pullover', 'Dress', 'Coat', 'Sandal', 'Shirt', 'Sneaker', 'Bag', 'Ankle boot').\n",
    "\n",
    "Each image is a 28x28 grayscale, and for simplicity here is flattened into a 784 dimensional vector."
   ]
  },
  {
   "cell_type": "code",
   "execution_count": 33,
   "metadata": {
    "_cell_guid": "79c7e3d0-c299-4dcb-8224-4455121ee9b0",
    "_uuid": "d629ff2d2480ee46fbb7e2d37f6b5fab8052498a"
   },
   "outputs": [
    {
     "data": {
      "image/png": "[encoded data removed]",
      "text/plain": [
       "<Figure size 1800x360 with 20 Axes>"
      ]
     },
     "metadata": {
      "needs_background": "light"
     },
     "output_type": "display_data"
    }
   ],
   "source": [
    "##################################################\n",
    "# Load dataset\n",
    "##################################################\n",
    "\n",
    "x_train = np.load(os.path.join(DATA_BASE_FOLDER, 'train.npy'))\n",
    "x_valid = np.load(os.path.join(DATA_BASE_FOLDER, 'validation.npy'))\n",
    "x_test = np.load(os.path.join(DATA_BASE_FOLDER, 'test.npy'))\n",
    "y_train = pd.read_csv(os.path.join(DATA_BASE_FOLDER, 'train.csv'))['class'].values\n",
    "y_valid = pd.read_csv(os.path.join(DATA_BASE_FOLDER, 'validation.csv'))['class'].values\n",
    "y_labels = ['T-shirt/top', 'Trouser', 'Pullover', 'Dress', 'Coat', 'Sandal', 'Shirt', 'Sneaker', 'Bag', 'Ankle boot']\n",
    "\n",
    "# Plot random images of different classes\n",
    "plt.figure(figsize=(25, 5))\n",
    "for idx in range(20):\n",
    "    plt.subplot(1, 20, idx + 1)\n",
    "    img = x_train[idx].reshape(28, 28)\n",
    "    plt.title(f'{y_labels[y_train[idx]]}')\n",
    "    plt.imshow(img, cmap='gray')\n",
    "    plt.axis('off')\n",
    "plt.show()"
   ]
  },
  {
   "cell_type": "code",
   "execution_count": 34,
   "metadata": {},
   "outputs": [
    {
     "data": {
      "text/plain": [
       "(50000, 784)"
      ]
     },
     "execution_count": 34,
     "metadata": {},
     "output_type": "execute_result"
    }
   ],
   "source": [
    "x_train.shape"
   ]
  },
  {
   "cell_type": "code",
   "execution_count": 35,
   "metadata": {},
   "outputs": [],
   "source": [
    "##################################################\n",
    "# Process the data here, if needed\n",
    "##################################################\n",
    "\n",
    "#For better numerical stability is advisible to divide by 255\n",
    "x_train_sc=x_train/255\n",
    "x_valid_sc=x_valid/255"
   ]
  },
  {
   "cell_type": "code",
   "execution_count": 28,
   "metadata": {},
   "outputs": [],
   "source": [
    "#to run only if you want to work with less data to speed up computation in experimental phase\n",
    "size = 10000\n",
    "x_train_sc=x_train_sc[0:size]\n",
    "y_train=y_train[0:size]\n",
    "x_valid_sc=x_valid_sc[0:size]\n",
    "y_valid=y_valid[0:size]"
   ]
  },
  {
   "cell_type": "markdown",
   "metadata": {},
   "source": [
    "# Model - SVM\n",
    "\n",
    "Here you have to implement a model (or more models, for finding the most accurate) for classification.\n",
    "\n",
    "You can use the [`sklearn`](https://scikit-learn.org/stable/) (or optionally other more advanced frameworks such as [`pytorch`](https://pytorch.org/) or [`tensorflow`](https://www.tensorflow.org/)) package that contains a pool of models already implemented that perform classification. (SVMs, NNs, LR, kNN, ...)"
   ]
  },
  {
   "cell_type": "code",
   "execution_count": 29,
   "metadata": {},
   "outputs": [],
   "source": [
    "from sklearn.svm import SVC\n",
    "from sklearn.model_selection import GridSearchCV\n",
    "from sklearn.model_selection import StratifiedKFold"
   ]
  },
  {
   "cell_type": "markdown",
   "metadata": {},
   "source": [
    "## Grid search (cross validated) on a downsampled version of the dataset"
   ]
  },
  {
   "cell_type": "code",
   "execution_count": 8,
   "metadata": {},
   "outputs": [
    {
     "name": "stdout",
     "output_type": "stream",
     "text": [
      "[{'C': [1, 2, 4, 8], 'gamma': [0.125, 0.0625, 0.03125], 'kernel': ['rbf']}]\n"
     ]
    }
   ],
   "source": [
    "# Define the grid for the grid search\n",
    "Cs = np.power(2, np.asarray(list(range(4)))).tolist() # C = regularization parameter\n",
    "gammas = np.power(1/2, np.asarray(list(range(6)))).tolist()[3:] # gamma: parameter for the RBF kernel\n",
    "\n",
    "param_grid = [\n",
    "    {'C': Cs, 'gamma': gammas, 'kernel': ['rbf']},\n",
    "]\n",
    "\n",
    "# Cross Validation strategy\n",
    "cv=StratifiedKFold(n_splits=5,shuffle=True,random_state=0)\n",
    "print(param_grid)"
   ]
  },
  {
   "cell_type": "code",
   "execution_count": 15,
   "metadata": {},
   "outputs": [
    {
     "name": "stdout",
     "output_type": "stream",
     "text": [
      "{'C': 4, 'gamma': 0.03125, 'kernel': 'rbf'}\n",
      "Cross Validation Accuracy: 0.872500\n"
     ]
    }
   ],
   "source": [
    "##################################################\n",
    "# Implement you model here\n",
    "##################################################\n",
    "\n",
    "svc = SVC()\n",
    "# grid search con 5 fold cross validation\n",
    "clf = GridSearchCV(svc, param_grid, cv=5, n_jobs=-1)\n",
    "clf.fit(x_train_sc, y_train)\n",
    "\n",
    "print(clf.best_params_)\n",
    "print(\"Cross Validation Accuracy: %f\" % clf.best_score_)"
   ]
  },
  {
   "cell_type": "code",
   "execution_count": 17,
   "metadata": {},
   "outputs": [
    {
     "data": {
      "text/plain": [
       "['grid_search_svm_downsampled.sav']"
      ]
     },
     "execution_count": 17,
     "metadata": {},
     "output_type": "execute_result"
    }
   ],
   "source": [
    "# save the model to disk\n",
    "filename = 'grid_search_svm_downsampled.sav'\n",
    "joblib.dump(clf, filename)"
   ]
  },
  {
   "cell_type": "code",
   "execution_count": 18,
   "metadata": {},
   "outputs": [
    {
     "data": {
      "text/plain": [
       "{'C': 4, 'gamma': 0.03125, 'kernel': 'rbf'}"
      ]
     },
     "execution_count": 18,
     "metadata": {},
     "output_type": "execute_result"
    }
   ],
   "source": [
    "clf.best_params_"
   ]
  },
  {
   "cell_type": "code",
   "execution_count": 19,
   "metadata": {},
   "outputs": [
    {
     "data": {
      "text/plain": [
       "0.8781"
      ]
     },
     "execution_count": 19,
     "metadata": {},
     "output_type": "execute_result"
    }
   ],
   "source": [
    "clf.score(x_valid_sc, y_valid)"
   ]
  },
  {
   "cell_type": "code",
   "execution_count": 23,
   "metadata": {},
   "outputs": [
    {
     "data": {
      "text/html": [
       "<div>\n",
       "<style scoped>\n",
       "    .dataframe tbody tr th:only-of-type {\n",
       "        vertical-align: middle;\n",
       "    }\n",
       "\n",
       "    .dataframe tbody tr th {\n",
       "        vertical-align: top;\n",
       "    }\n",
       "\n",
       "    .dataframe thead th {\n",
       "        text-align: right;\n",
       "    }\n",
       "</style>\n",
       "<table border=\"1\" class=\"dataframe\">\n",
       "  <thead>\n",
       "    <tr style=\"text-align: right;\">\n",
       "      <th></th>\n",
       "      <th>mean_fit_time</th>\n",
       "      <th>std_fit_time</th>\n",
       "      <th>mean_score_time</th>\n",
       "      <th>std_score_time</th>\n",
       "      <th>param_C</th>\n",
       "      <th>param_gamma</th>\n",
       "      <th>param_kernel</th>\n",
       "      <th>params</th>\n",
       "      <th>split0_test_score</th>\n",
       "      <th>split1_test_score</th>\n",
       "      <th>split2_test_score</th>\n",
       "      <th>split3_test_score</th>\n",
       "      <th>split4_test_score</th>\n",
       "      <th>mean_test_score</th>\n",
       "      <th>std_test_score</th>\n",
       "      <th>rank_test_score</th>\n",
       "    </tr>\n",
       "  </thead>\n",
       "  <tbody>\n",
       "    <tr>\n",
       "      <td>0</td>\n",
       "      <td>237.260946</td>\n",
       "      <td>1.239280</td>\n",
       "      <td>27.493530</td>\n",
       "      <td>0.134380</td>\n",
       "      <td>1</td>\n",
       "      <td>0.125</td>\n",
       "      <td>rbf</td>\n",
       "      <td>{'C': 1, 'gamma': 0.125, 'kernel': 'rbf'}</td>\n",
       "      <td>0.748503</td>\n",
       "      <td>0.735265</td>\n",
       "      <td>0.741871</td>\n",
       "      <td>0.748374</td>\n",
       "      <td>0.766032</td>\n",
       "      <td>0.7480</td>\n",
       "      <td>0.010245</td>\n",
       "      <td>12</td>\n",
       "    </tr>\n",
       "    <tr>\n",
       "      <td>1</td>\n",
       "      <td>128.451676</td>\n",
       "      <td>1.635109</td>\n",
       "      <td>21.844860</td>\n",
       "      <td>0.238880</td>\n",
       "      <td>1</td>\n",
       "      <td>0.0625</td>\n",
       "      <td>rbf</td>\n",
       "      <td>{'C': 1, 'gamma': 0.0625, 'kernel': 'rbf'}</td>\n",
       "      <td>0.856287</td>\n",
       "      <td>0.838661</td>\n",
       "      <td>0.861431</td>\n",
       "      <td>0.847924</td>\n",
       "      <td>0.864729</td>\n",
       "      <td>0.8538</td>\n",
       "      <td>0.009461</td>\n",
       "      <td>8</td>\n",
       "    </tr>\n",
       "    <tr>\n",
       "      <td>2</td>\n",
       "      <td>66.187876</td>\n",
       "      <td>0.774719</td>\n",
       "      <td>18.151979</td>\n",
       "      <td>0.261955</td>\n",
       "      <td>1</td>\n",
       "      <td>0.03125</td>\n",
       "      <td>rbf</td>\n",
       "      <td>{'C': 1, 'gamma': 0.03125, 'kernel': 'rbf'}</td>\n",
       "      <td>0.866267</td>\n",
       "      <td>0.851648</td>\n",
       "      <td>0.874937</td>\n",
       "      <td>0.863432</td>\n",
       "      <td>0.877255</td>\n",
       "      <td>0.8667</td>\n",
       "      <td>0.009128</td>\n",
       "      <td>4</td>\n",
       "    </tr>\n",
       "    <tr>\n",
       "      <td>3</td>\n",
       "      <td>240.696215</td>\n",
       "      <td>0.314167</td>\n",
       "      <td>27.755970</td>\n",
       "      <td>0.341017</td>\n",
       "      <td>2</td>\n",
       "      <td>0.125</td>\n",
       "      <td>rbf</td>\n",
       "      <td>{'C': 2, 'gamma': 0.125, 'kernel': 'rbf'}</td>\n",
       "      <td>0.761477</td>\n",
       "      <td>0.745255</td>\n",
       "      <td>0.757879</td>\n",
       "      <td>0.764882</td>\n",
       "      <td>0.779559</td>\n",
       "      <td>0.7618</td>\n",
       "      <td>0.011079</td>\n",
       "      <td>9</td>\n",
       "    </tr>\n",
       "    <tr>\n",
       "      <td>4</td>\n",
       "      <td>138.407228</td>\n",
       "      <td>0.680498</td>\n",
       "      <td>22.266635</td>\n",
       "      <td>0.117981</td>\n",
       "      <td>2</td>\n",
       "      <td>0.0625</td>\n",
       "      <td>rbf</td>\n",
       "      <td>{'C': 2, 'gamma': 0.0625, 'kernel': 'rbf'}</td>\n",
       "      <td>0.865269</td>\n",
       "      <td>0.841159</td>\n",
       "      <td>0.868434</td>\n",
       "      <td>0.855928</td>\n",
       "      <td>0.870741</td>\n",
       "      <td>0.8603</td>\n",
       "      <td>0.010822</td>\n",
       "      <td>5</td>\n",
       "    </tr>\n",
       "  </tbody>\n",
       "</table>\n",
       "</div>"
      ],
      "text/plain": [
       "   mean_fit_time  std_fit_time  mean_score_time  std_score_time param_C  \\\n",
       "0     237.260946      1.239280        27.493530        0.134380       1   \n",
       "1     128.451676      1.635109        21.844860        0.238880       1   \n",
       "2      66.187876      0.774719        18.151979        0.261955       1   \n",
       "3     240.696215      0.314167        27.755970        0.341017       2   \n",
       "4     138.407228      0.680498        22.266635        0.117981       2   \n",
       "\n",
       "  param_gamma param_kernel                                       params  \\\n",
       "0       0.125          rbf    {'C': 1, 'gamma': 0.125, 'kernel': 'rbf'}   \n",
       "1      0.0625          rbf   {'C': 1, 'gamma': 0.0625, 'kernel': 'rbf'}   \n",
       "2     0.03125          rbf  {'C': 1, 'gamma': 0.03125, 'kernel': 'rbf'}   \n",
       "3       0.125          rbf    {'C': 2, 'gamma': 0.125, 'kernel': 'rbf'}   \n",
       "4      0.0625          rbf   {'C': 2, 'gamma': 0.0625, 'kernel': 'rbf'}   \n",
       "\n",
       "   split0_test_score  split1_test_score  split2_test_score  split3_test_score  \\\n",
       "0           0.748503           0.735265           0.741871           0.748374   \n",
       "1           0.856287           0.838661           0.861431           0.847924   \n",
       "2           0.866267           0.851648           0.874937           0.863432   \n",
       "3           0.761477           0.745255           0.757879           0.764882   \n",
       "4           0.865269           0.841159           0.868434           0.855928   \n",
       "\n",
       "   split4_test_score  mean_test_score  std_test_score  rank_test_score  \n",
       "0           0.766032           0.7480        0.010245               12  \n",
       "1           0.864729           0.8538        0.009461                8  \n",
       "2           0.877255           0.8667        0.009128                4  \n",
       "3           0.779559           0.7618        0.011079                9  \n",
       "4           0.870741           0.8603        0.010822                5  "
      ]
     },
     "execution_count": 23,
     "metadata": {},
     "output_type": "execute_result"
    }
   ],
   "source": [
    "results_svm_gs = pd.DataFrame(clf.cv_results_)\n",
    "results_svm_gs.head()"
   ]
  },
  {
   "cell_type": "markdown",
   "metadata": {},
   "source": [
    "## Train a single model with the best params with all the TS"
   ]
  },
  {
   "cell_type": "code",
   "execution_count": 42,
   "metadata": {},
   "outputs": [],
   "source": [
    "#load already trained model if available"
   ]
  },
  {
   "cell_type": "code",
   "execution_count": 37,
   "metadata": {},
   "outputs": [
    {
     "data": {
      "text/plain": [
       "SVC(C=4, cache_size=200, class_weight=None, coef0=0.0,\n",
       "    decision_function_shape='ovr', degree=3, gamma=0.03125, kernel='rbf',\n",
       "    max_iter=-1, probability=False, random_state=None, shrinking=True,\n",
       "    tol=0.001, verbose=False)"
      ]
     },
     "execution_count": 37,
     "metadata": {},
     "output_type": "execute_result"
    }
   ],
   "source": [
    "svm_final = SVC(C=4, gamma=0.03125, kernel='rbf')\n",
    "svm_final.fit(x_train_sc, y_train)"
   ]
  },
  {
   "cell_type": "code",
   "execution_count": 38,
   "metadata": {},
   "outputs": [
    {
     "data": {
      "text/plain": [
       "0.9039"
      ]
     },
     "execution_count": 38,
     "metadata": {},
     "output_type": "execute_result"
    }
   ],
   "source": [
    "svm_final.score(x_valid_sc, y_valid)"
   ]
  },
  {
   "cell_type": "code",
   "execution_count": 39,
   "metadata": {},
   "outputs": [
    {
     "data": {
      "text/plain": [
       "['svm_model_fullTS.sav']"
      ]
     },
     "execution_count": 39,
     "metadata": {},
     "output_type": "execute_result"
    }
   ],
   "source": [
    "# save the model to disk\n",
    "filename = 'svm_model_fullTS.sav'\n",
    "joblib.dump(svm_final, filename)"
   ]
  },
  {
   "cell_type": "code",
   "execution_count": null,
   "metadata": {},
   "outputs": [],
   "source": [
    "# confusion matrix\n",
    "disp = metrics.plot_confusion_matrix(classifier, x_valid_n1, y_valid, normalize='all', include_values=False)"
   ]
  }
 ],
 "metadata": {
  "kernelspec": {
   "display_name": "Python 3",
   "language": "python",
   "name": "python3"
  },
  "language_info": {
   "codemirror_mode": {
    "name": "ipython",
    "version": 3
   },
   "file_extension": ".py",
   "mimetype": "text/x-python",
   "name": "python",
   "nbconvert_exporter": "python",
   "pygments_lexer": "ipython3",
   "version": "3.7.4"
  }
 },
 "nbformat": 4,
 "nbformat_minor": 4
}
