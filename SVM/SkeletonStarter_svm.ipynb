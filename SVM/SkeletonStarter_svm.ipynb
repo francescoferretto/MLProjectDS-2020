{
 "cells": [
  {
   "cell_type": "markdown",
   "metadata": {},
   "source": [
    "# Image Classification Challenge"
   ]
  },
  {
   "cell_type": "code",
   "execution_count": 18,
   "metadata": {
    "_cell_guid": "b1076dfc-b9ad-4769-8c92-a6c4dae69d19",
    "_uuid": "8f2839f25d086af736a60e9eeb907d3b93b6e0e5"
   },
   "outputs": [],
   "source": [
    "##################################################\n",
    "# Imports\n",
    "##################################################\n",
    "\n",
    "import numpy as np\n",
    "import cv2\n",
    "import os\n",
    "import pandas as pd\n",
    "import matplotlib.pyplot as plt\n",
    "from sklearn import preprocessing, svm, metrics\n",
    "\n",
    "\n",
    "##################################################\n",
    "# Params\n",
    "##################################################\n",
    "\n",
    "DATA_BASE_FOLDER = 'data'"
   ]
  },
  {
   "cell_type": "markdown",
   "metadata": {},
   "source": [
    "# Dataset\n",
    "\n",
    "The dataset contains 50k train + 10k validation images of 10 different categories ('T-shirt/top', 'Trouser', 'Pullover', 'Dress', 'Coat', 'Sandal', 'Shirt', 'Sneaker', 'Bag', 'Ankle boot').\n",
    "\n",
    "Each image is a 28x28 grayscale, and for simplicity here is flattened into a 784 dimensional vector."
   ]
  },
  {
   "cell_type": "code",
   "execution_count": 15,
   "metadata": {
    "_cell_guid": "79c7e3d0-c299-4dcb-8224-4455121ee9b0",
    "_uuid": "d629ff2d2480ee46fbb7e2d37f6b5fab8052498a"
   },
   "outputs": [
    {
     "data": {
      "image/png": "[encoded data removed]",
      "text/plain": [
       "<Figure size 1800x360 with 20 Axes>"
      ]
     },
     "metadata": {
      "needs_background": "light"
     },
     "output_type": "display_data"
    }
   ],
   "source": [
    "##################################################\n",
    "# Load dataset\n",
    "##################################################\n",
    "\n",
    "x_train = np.load(os.path.join(DATA_BASE_FOLDER, 'train.npy'))\n",
    "x_valid = np.load(os.path.join(DATA_BASE_FOLDER, 'validation.npy'))\n",
    "x_test = np.load(os.path.join(DATA_BASE_FOLDER, 'test.npy'))\n",
    "y_train = pd.read_csv(os.path.join(DATA_BASE_FOLDER, 'train.csv'))['class'].values\n",
    "y_valid = pd.read_csv(os.path.join(DATA_BASE_FOLDER, 'validation.csv'))['class'].values\n",
    "y_labels = ['T-shirt/top', 'Trouser', 'Pullover', 'Dress', 'Coat', 'Sandal', 'Shirt', 'Sneaker', 'Bag', 'Ankle boot']\n",
    "\n",
    "# Plot random images of different classes\n",
    "plt.figure(figsize=(25, 5))\n",
    "for idx in range(20):\n",
    "    plt.subplot(1, 20, idx + 1)\n",
    "    img = x_train[idx].reshape(28, 28)\n",
    "    plt.title(f'{y_labels[y_train[idx]]}')\n",
    "    plt.imshow(img, cmap='gray')\n",
    "    plt.axis('off')\n",
    "plt.show()"
   ]
  },
  {
   "cell_type": "code",
   "execution_count": 16,
   "metadata": {},
   "outputs": [
    {
     "name": "stdout",
     "output_type": "stream",
     "text": [
      "uint8\n",
      "(50000, 784)\n"
     ]
    }
   ],
   "source": [
    "# data is stored in integer values\n",
    "print(x_train[0].dtype)\n",
    "\n",
    "# print data shape\n",
    "print(x_train.shape)"
   ]
  },
  {
   "cell_type": "code",
   "execution_count": 19,
   "metadata": {},
   "outputs": [
    {
     "name": "stdout",
     "output_type": "stream",
     "text": [
      "norm of x_train_n1: 1.0\n",
      "max of x_train_n1[0]: 0.06468900181277835, min of x_train_n1[0]: 0.0\n",
      "norm of x_train_n2: 15.458578305075418\n",
      "max of x_train_n2[0]: 1.0, min of x_train_n2[0]: 0.0\n"
     ]
    }
   ],
   "source": [
    "##################################################\n",
    "# Process the data here, if needed\n",
    "##################################################\n",
    "\n",
    "# Normalize data. We can normalize in different ways\n",
    "\n",
    "# 1 - in such a way that feature vectors have norm 1\n",
    "x_train_n1 = preprocessing.normalize(x_train, axis=1)\n",
    "x_valid_n1 = preprocessing.normalize(x_valid, axis=1)\n",
    "x_test_n1 = preprocessing.normalize(x_test, axis=1)\n",
    "print(\"norm of x_train_n1: {}\".format(np.linalg.norm(x_train_n1[0])))\n",
    "print(\"max of x_train_n1[0]: {}, min of x_train_n1[0]: {}\".format(max(x_train_n1[0]), min(x_train_n1[0])))\n",
    "\n",
    "\n",
    "\n",
    "# 2 - simply rescaling pixel values from 0-255 to 0-1\n",
    "x_train_n2 = x_train / 255.0\n",
    "x_valid_n2 = x_valid / 255.0\n",
    "x_test_n2 =  x_test / 255.0\n",
    "print(\"norm of x_train_n2: {}\".format(np.linalg.norm(x_train_n2[0])))\n",
    "print(\"max of x_train_n2[0]: {}, min of x_train_n2[0]: {}\".format(max(x_train_n2[0]), min(x_train_n2[0])))"
   ]
  },
  {
   "cell_type": "markdown",
   "metadata": {},
   "source": [
    "# Model\n",
    "\n",
    "Here you have to implement a model (or more models, for finding the most accurate) for classification.\n",
    "\n",
    "You can use the [`sklearn`](https://scikit-learn.org/stable/) (or optionally other more advanced frameworks such as [`pytorch`](https://pytorch.org/) or [`tensorflow`](https://www.tensorflow.org/)) package that contains a pool of models already implemented that perform classification. (SVMs, NNs, LR, kNN, ...)"
   ]
  },
  {
   "cell_type": "code",
   "execution_count": 55,
   "metadata": {},
   "outputs": [],
   "source": [
    "##################################################\n",
    "# Implement you model here\n",
    "##################################################\n",
    "\n",
    "# test SVM brutale\n",
    "classifier = svm.SVC()\n",
    "classifier.fit(x_train_n1[:10000], y_train[:10000])\n",
    "\n",
    "predicted = classifier.predict(x_valid_n1)"
   ]
  },
  {
   "cell_type": "code",
   "execution_count": 56,
   "metadata": {},
   "outputs": [
    {
     "data": {
      "image/png": "[encoded data removed]",
      "text/plain": [
       "<Figure size 432x288 with 2 Axes>"
      ]
     },
     "metadata": {
      "needs_background": "light"
     },
     "output_type": "display_data"
    }
   ],
   "source": [
    "disp = metrics.plot_confusion_matrix(classifier, x_valid_n1, y_valid, normalize='all', include_values=False)"
   ]
  },
  {
   "cell_type": "markdown",
   "metadata": {},
   "source": [
    "# Evaluation"
   ]
  },
  {
   "cell_type": "code",
   "execution_count": 57,
   "metadata": {},
   "outputs": [],
   "source": [
    "##################################################\n",
    "# Evaluate the model here\n",
    "##################################################\n",
    "\n",
    "# Use this function to evaluate your model\n",
    "def accuracy(y_pred, y_true):\n",
    "    '''\n",
    "    input y_pred: ndarray of shape (N,)\n",
    "    input y_true: ndarray of shape (N,)\n",
    "    '''\n",
    "    return (1.0 * (y_pred == y_true)).mean()\n",
    "\n",
    "# Report the accuracy in the train and validation sets."
   ]
  },
  {
   "cell_type": "code",
   "execution_count": 58,
   "metadata": {},
   "outputs": [
    {
     "data": {
      "text/plain": [
       "0.8663"
      ]
     },
     "execution_count": 58,
     "metadata": {},
     "output_type": "execute_result"
    }
   ],
   "source": [
    "accuracy(predicted, y_valid)"
   ]
  },
  {
   "cell_type": "markdown",
   "metadata": {},
   "source": [
    "# Send the submission for the challenge"
   ]
  },
  {
   "cell_type": "code",
   "execution_count": null,
   "metadata": {},
   "outputs": [],
   "source": [
    "##################################################\n",
    "# Save your test prediction in y_test_pred\n",
    "##################################################\n",
    "\n",
    "y_test_pred = None\n",
    "\n",
    "# Create submission\n",
    "submission = pd.read_csv(os.path.join(DATA_BASE_FOLDER, 'sample_submission.csv'))\n",
    "if y_test_pred is not None:\n",
    "    submission['class'] = y_test_pred\n",
    "submission.to_csv('my_submission.csv', index=False)"
   ]
  }
 ],
 "metadata": {
  "kernelspec": {
   "display_name": "Python 3",
   "language": "python",
   "name": "python3"
  },
  "language_info": {
   "codemirror_mode": {
    "name": "ipython",
    "version": 3
   },
   "file_extension": ".py",
   "mimetype": "text/x-python",
   "name": "python",
   "nbconvert_exporter": "python",
   "pygments_lexer": "ipython3",
   "version": "3.7.6"
  }
 },
 "nbformat": 4,
 "nbformat_minor": 4
}
